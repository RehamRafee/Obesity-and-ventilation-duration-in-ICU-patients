{
 "cells": [
  {
   "cell_type": "markdown",
   "metadata": {},
   "source": [
    "# Does Obesity causes ventilation dependence in ICU patients?\n",
    "by ( Reham Rafee)\n"
   ]
  },
  {
   "cell_type": "markdown",
   "metadata": {},
   "source": [
    "## Table of Contents\n",
    "- [Introduction](#intro)\n",
    "- [Data Assessment](#assess)\n",
    "- [Data Processing](#process)\n",
    "- [Data Analysis](#analysis)\n",
    "- [Survival Analysis](#analysis_s)\n"
   ]
  },
  {
   "cell_type": "markdown",
   "metadata": {},
   "source": [
    "<a id='intro'></a>\n",
    "### Introduction:\n",
    "   >The dataset about 849 patient admitted to the ICU and we try to see if there is causal inference between the BMI and ventilation dependence.\n",
    "   > We try to find if the patients' BMI could affect their ventilation duration , lenght of stay in ICU, and extubation success.\n",
    "  \n"
   ]
  },
  {
   "cell_type": "code",
   "execution_count": 1,
   "metadata": {},
   "outputs": [],
   "source": [
    "import numpy as np\n",
    "import pandas as pd\n",
    "import statsmodels.api as sm;\n",
    "import matplotlib.pyplot as plt # library for visualization\n",
    "import seaborn as sns # library for visualization\n",
    "sns.set() # this command sets the seaborn chart style as the default"
   ]
  },
  {
   "cell_type": "markdown",
   "metadata": {},
   "source": [
    "<a id='assess'></a>\n",
    "# Assessment of the data:"
   ]
  },
  {
   "cell_type": "code",
   "execution_count": 2,
   "metadata": {
    "scrolled": true
   },
   "outputs": [
    {
     "data": {
      "text/html": [
       "<div>\n",
       "<style scoped>\n",
       "    .dataframe tbody tr th:only-of-type {\n",
       "        vertical-align: middle;\n",
       "    }\n",
       "\n",
       "    .dataframe tbody tr th {\n",
       "        vertical-align: top;\n",
       "    }\n",
       "\n",
       "    .dataframe thead th {\n",
       "        text-align: right;\n",
       "    }\n",
       "</style>\n",
       "<table border=\"1\" class=\"dataframe\">\n",
       "  <thead>\n",
       "    <tr style=\"text-align: right;\">\n",
       "      <th></th>\n",
       "      <th>subject_id</th>\n",
       "      <th>stay_id</th>\n",
       "      <th>age</th>\n",
       "      <th>gender</th>\n",
       "      <th>ethnicity</th>\n",
       "      <th>first_careunit</th>\n",
       "      <th>admission_type</th>\n",
       "      <th>sapsii</th>\n",
       "      <th>sapsii_prob</th>\n",
       "      <th>cci</th>\n",
       "      <th>height</th>\n",
       "      <th>weight</th>\n",
       "      <th>bmi</th>\n",
       "      <th>mortality</th>\n",
       "      <th>day_28_mortality</th>\n",
       "      <th>mortality_duration</th>\n",
       "      <th>day_28_extubation</th>\n",
       "      <th>vent_duration</th>\n",
       "      <th>los_icu</th>\n",
       "    </tr>\n",
       "  </thead>\n",
       "  <tbody>\n",
       "    <tr>\n",
       "      <th>0</th>\n",
       "      <td>10025612</td>\n",
       "      <td>32587226</td>\n",
       "      <td>83</td>\n",
       "      <td>M</td>\n",
       "      <td>WHITE</td>\n",
       "      <td>Surgical Intensive Care Unit (SICU)</td>\n",
       "      <td>SURGICAL SAME DAY ADMISSION</td>\n",
       "      <td>45</td>\n",
       "      <td>0</td>\n",
       "      <td>6</td>\n",
       "      <td>169</td>\n",
       "      <td>77</td>\n",
       "      <td>27</td>\n",
       "      <td>survive</td>\n",
       "      <td>survive</td>\n",
       "      <td>NaN</td>\n",
       "      <td>Success</td>\n",
       "      <td>0</td>\n",
       "      <td>5</td>\n",
       "    </tr>\n",
       "    <tr>\n",
       "      <th>1</th>\n",
       "      <td>10026161</td>\n",
       "      <td>39625056</td>\n",
       "      <td>79</td>\n",
       "      <td>M</td>\n",
       "      <td>WHITE</td>\n",
       "      <td>Medical/Surgical Intensive Care Unit (MICU/SICU)</td>\n",
       "      <td>SURGICAL SAME DAY ADMISSION</td>\n",
       "      <td>65</td>\n",
       "      <td>1</td>\n",
       "      <td>9</td>\n",
       "      <td>180</td>\n",
       "      <td>90</td>\n",
       "      <td>28</td>\n",
       "      <td>survive</td>\n",
       "      <td>survive</td>\n",
       "      <td>NaN</td>\n",
       "      <td>Success</td>\n",
       "      <td>4</td>\n",
       "      <td>4</td>\n",
       "    </tr>\n",
       "    <tr>\n",
       "      <th>2</th>\n",
       "      <td>10034317</td>\n",
       "      <td>36228864</td>\n",
       "      <td>73</td>\n",
       "      <td>M</td>\n",
       "      <td>WHITE</td>\n",
       "      <td>Trauma SICU (TSICU)</td>\n",
       "      <td>SURGICAL SAME DAY ADMISSION</td>\n",
       "      <td>56</td>\n",
       "      <td>1</td>\n",
       "      <td>9</td>\n",
       "      <td>183</td>\n",
       "      <td>89</td>\n",
       "      <td>27</td>\n",
       "      <td>survive</td>\n",
       "      <td>survive</td>\n",
       "      <td>NaN</td>\n",
       "      <td>Success</td>\n",
       "      <td>0</td>\n",
       "      <td>3</td>\n",
       "    </tr>\n",
       "    <tr>\n",
       "      <th>3</th>\n",
       "      <td>10062020</td>\n",
       "      <td>35323579</td>\n",
       "      <td>66</td>\n",
       "      <td>F</td>\n",
       "      <td>WHITE</td>\n",
       "      <td>Trauma SICU (TSICU)</td>\n",
       "      <td>SURGICAL SAME DAY ADMISSION</td>\n",
       "      <td>45</td>\n",
       "      <td>0</td>\n",
       "      <td>9</td>\n",
       "      <td>169</td>\n",
       "      <td>100</td>\n",
       "      <td>35</td>\n",
       "      <td>survive</td>\n",
       "      <td>survive</td>\n",
       "      <td>NaN</td>\n",
       "      <td>Success</td>\n",
       "      <td>0</td>\n",
       "      <td>1</td>\n",
       "    </tr>\n",
       "    <tr>\n",
       "      <th>4</th>\n",
       "      <td>10109085</td>\n",
       "      <td>37504676</td>\n",
       "      <td>69</td>\n",
       "      <td>M</td>\n",
       "      <td>WHITE</td>\n",
       "      <td>Trauma SICU (TSICU)</td>\n",
       "      <td>SURGICAL SAME DAY ADMISSION</td>\n",
       "      <td>39</td>\n",
       "      <td>0</td>\n",
       "      <td>9</td>\n",
       "      <td>180</td>\n",
       "      <td>91</td>\n",
       "      <td>28</td>\n",
       "      <td>survive</td>\n",
       "      <td>survive</td>\n",
       "      <td>NaN</td>\n",
       "      <td>Success</td>\n",
       "      <td>0</td>\n",
       "      <td>5</td>\n",
       "    </tr>\n",
       "  </tbody>\n",
       "</table>\n",
       "</div>"
      ],
      "text/plain": [
       "   subject_id   stay_id  age gender ethnicity  \\\n",
       "0    10025612  32587226   83      M     WHITE   \n",
       "1    10026161  39625056   79      M     WHITE   \n",
       "2    10034317  36228864   73      M     WHITE   \n",
       "3    10062020  35323579   66      F     WHITE   \n",
       "4    10109085  37504676   69      M     WHITE   \n",
       "\n",
       "                                     first_careunit  \\\n",
       "0               Surgical Intensive Care Unit (SICU)   \n",
       "1  Medical/Surgical Intensive Care Unit (MICU/SICU)   \n",
       "2                               Trauma SICU (TSICU)   \n",
       "3                               Trauma SICU (TSICU)   \n",
       "4                               Trauma SICU (TSICU)   \n",
       "\n",
       "                admission_type  sapsii  sapsii_prob  cci  height  weight  bmi  \\\n",
       "0  SURGICAL SAME DAY ADMISSION      45            0    6     169      77   27   \n",
       "1  SURGICAL SAME DAY ADMISSION      65            1    9     180      90   28   \n",
       "2  SURGICAL SAME DAY ADMISSION      56            1    9     183      89   27   \n",
       "3  SURGICAL SAME DAY ADMISSION      45            0    9     169     100   35   \n",
       "4  SURGICAL SAME DAY ADMISSION      39            0    9     180      91   28   \n",
       "\n",
       "  mortality day_28_mortality  mortality_duration day_28_extubation  \\\n",
       "0   survive          survive                 NaN           Success   \n",
       "1   survive          survive                 NaN           Success   \n",
       "2   survive          survive                 NaN           Success   \n",
       "3   survive          survive                 NaN           Success   \n",
       "4   survive          survive                 NaN           Success   \n",
       "\n",
       "   vent_duration  los_icu  \n",
       "0              0        5  \n",
       "1              4        4  \n",
       "2              0        3  \n",
       "3              0        1  \n",
       "4              0        5  "
      ]
     },
     "execution_count": 2,
     "metadata": {},
     "output_type": "execute_result"
    }
   ],
   "source": [
    "df = pd.read_csv('2 Cleaned obesity ventilation duration (1).csv')\n",
    "df.head()"
   ]
  },
  {
   "cell_type": "code",
   "execution_count": 3,
   "metadata": {},
   "outputs": [
    {
     "name": "stdout",
     "output_type": "stream",
     "text": [
      "<class 'pandas.core.frame.DataFrame'>\n",
      "RangeIndex: 849 entries, 0 to 848\n",
      "Data columns (total 19 columns):\n",
      " #   Column              Non-Null Count  Dtype  \n",
      "---  ------              --------------  -----  \n",
      " 0   subject_id          849 non-null    int64  \n",
      " 1   stay_id             849 non-null    int64  \n",
      " 2   age                 849 non-null    int64  \n",
      " 3   gender              849 non-null    object \n",
      " 4   ethnicity           794 non-null    object \n",
      " 5   first_careunit      849 non-null    object \n",
      " 6   admission_type      849 non-null    object \n",
      " 7   sapsii              849 non-null    int64  \n",
      " 8   sapsii_prob         849 non-null    int64  \n",
      " 9   cci                 849 non-null    int64  \n",
      " 10  height              849 non-null    int64  \n",
      " 11  weight              849 non-null    int64  \n",
      " 12  bmi                 849 non-null    int64  \n",
      " 13  mortality           849 non-null    object \n",
      " 14  day_28_mortality    849 non-null    object \n",
      " 15  mortality_duration  25 non-null     float64\n",
      " 16  day_28_extubation   849 non-null    object \n",
      " 17  vent_duration       849 non-null    int64  \n",
      " 18  los_icu             849 non-null    int64  \n",
      "dtypes: float64(1), int64(11), object(7)\n",
      "memory usage: 126.1+ KB\n"
     ]
    }
   ],
   "source": [
    "df.info()"
   ]
  },
  {
   "cell_type": "code",
   "execution_count": 4,
   "metadata": {
    "scrolled": true
   },
   "outputs": [
    {
     "name": "stdout",
     "output_type": "stream",
     "text": [
      "(849, 19)\n",
      "subject_id              int64\n",
      "stay_id                 int64\n",
      "age                     int64\n",
      "gender                 object\n",
      "ethnicity              object\n",
      "first_careunit         object\n",
      "admission_type         object\n",
      "sapsii                  int64\n",
      "sapsii_prob             int64\n",
      "cci                     int64\n",
      "height                  int64\n",
      "weight                  int64\n",
      "bmi                     int64\n",
      "mortality              object\n",
      "day_28_mortality       object\n",
      "mortality_duration    float64\n",
      "day_28_extubation      object\n",
      "vent_duration           int64\n",
      "los_icu                 int64\n",
      "dtype: object\n",
      "   subject_id   stay_id  age gender ethnicity  \\\n",
      "0    10025612  32587226   83      M     WHITE   \n",
      "1    10026161  39625056   79      M     WHITE   \n",
      "2    10034317  36228864   73      M     WHITE   \n",
      "3    10062020  35323579   66      F     WHITE   \n",
      "4    10109085  37504676   69      M     WHITE   \n",
      "5    10109956  37631738   62      F       NaN   \n",
      "6    10115024  39765878   52      F       NaN   \n",
      "7    10117230  30685878   60      F       NaN   \n",
      "8    10119001  38415671   88      F     WHITE   \n",
      "9    10135720  33352159   61      M     ASIAN   \n",
      "\n",
      "                                     first_careunit  \\\n",
      "0               Surgical Intensive Care Unit (SICU)   \n",
      "1  Medical/Surgical Intensive Care Unit (MICU/SICU)   \n",
      "2                               Trauma SICU (TSICU)   \n",
      "3                               Trauma SICU (TSICU)   \n",
      "4                               Trauma SICU (TSICU)   \n",
      "5  Medical/Surgical Intensive Care Unit (MICU/SICU)   \n",
      "6               Surgical Intensive Care Unit (SICU)   \n",
      "7                               Trauma SICU (TSICU)   \n",
      "8  Medical/Surgical Intensive Care Unit (MICU/SICU)   \n",
      "9                               Trauma SICU (TSICU)   \n",
      "\n",
      "                admission_type  sapsii  sapsii_prob  cci  height  weight  bmi  \\\n",
      "0  SURGICAL SAME DAY ADMISSION      45            0    6     169      77   27   \n",
      "1  SURGICAL SAME DAY ADMISSION      65            1    9     180      90   28   \n",
      "2  SURGICAL SAME DAY ADMISSION      56            1    9     183      89   27   \n",
      "3  SURGICAL SAME DAY ADMISSION      45            0    9     169     100   35   \n",
      "4  SURGICAL SAME DAY ADMISSION      39            0    9     180      91   28   \n",
      "5  SURGICAL SAME DAY ADMISSION      44            0   10     157      85   34   \n",
      "6  SURGICAL SAME DAY ADMISSION      15            0    3     169      87   31   \n",
      "7  SURGICAL SAME DAY ADMISSION      39            0    3     169      65   23   \n",
      "8  SURGICAL SAME DAY ADMISSION      47            0   11     169      73   26   \n",
      "9  SURGICAL SAME DAY ADMISSION      36            0    8     165      89   33   \n",
      "\n",
      "  mortality day_28_mortality  mortality_duration day_28_extubation  \\\n",
      "0   survive          survive                 NaN           Success   \n",
      "1   survive          survive                 NaN           Success   \n",
      "2   survive          survive                 NaN           Success   \n",
      "3   survive          survive                 NaN           Success   \n",
      "4   survive          survive                 NaN           Success   \n",
      "5   survive          survive                 NaN           Success   \n",
      "6   survive          survive                 NaN           Success   \n",
      "7   survive          survive                 NaN           Success   \n",
      "8   survive          survive                 NaN           Success   \n",
      "9   survive          survive                 NaN           Success   \n",
      "\n",
      "   vent_duration  los_icu  \n",
      "0              0        5  \n",
      "1              4        4  \n",
      "2              0        3  \n",
      "3              0        1  \n",
      "4              0        5  \n",
      "5             13       14  \n",
      "6              0        1  \n",
      "7              1        4  \n",
      "8              1        1  \n",
      "9              0        4  \n"
     ]
    }
   ],
   "source": [
    "# high-level overview of data shape and composition\n",
    "print(df.shape)\n",
    "print(df.dtypes)\n",
    "print(df.head(10))"
   ]
  },
  {
   "cell_type": "code",
   "execution_count": 5,
   "metadata": {
    "scrolled": true
   },
   "outputs": [
    {
     "name": "stdout",
     "output_type": "stream",
     "text": [
      "         subject_id       stay_id         age      sapsii  sapsii_prob  \\\n",
      "count  8.490000e+02  8.490000e+02  849.000000  849.000000   849.000000   \n",
      "mean   1.485063e+07  3.502193e+07   63.542992   36.598351     0.114252   \n",
      "std    2.882187e+06  2.919078e+06   12.809318   12.621861     0.318305   \n",
      "min    1.002561e+07  3.000195e+07   22.000000    8.000000     0.000000   \n",
      "25%    1.246898e+07  3.256432e+07   56.000000   28.000000     0.000000   \n",
      "50%    1.471896e+07  3.500877e+07   65.000000   35.000000     0.000000   \n",
      "75%    1.735256e+07  3.762335e+07   72.000000   44.000000     0.000000   \n",
      "max    1.999944e+07  3.998050e+07   92.000000   91.000000     1.000000   \n",
      "\n",
      "              cci      height      weight         bmi  mortality_duration  \\\n",
      "count  849.000000  849.000000  849.000000  849.000000           25.000000   \n",
      "mean     5.760895  168.886926   85.557126   29.957597          109.080000   \n",
      "std      2.931301    8.432805   23.086422    7.703870          334.539973   \n",
      "min      0.000000  132.000000   29.000000   10.000000            0.000000   \n",
      "25%      4.000000  165.000000   70.000000   25.000000            5.000000   \n",
      "50%      5.000000  169.000000   82.000000   29.000000            9.000000   \n",
      "75%      8.000000  173.000000  100.000000   34.000000           22.000000   \n",
      "max     14.000000  196.000000  186.000000   64.000000         1252.000000   \n",
      "\n",
      "       vent_duration     los_icu  \n",
      "count     849.000000  849.000000  \n",
      "mean        2.084806    4.391048  \n",
      "std         3.676784    4.814259  \n",
      "min         0.000000    0.000000  \n",
      "25%         0.000000    2.000000  \n",
      "50%         1.000000    3.000000  \n",
      "75%         2.000000    5.000000  \n",
      "max        51.000000   51.000000  \n"
     ]
    }
   ],
   "source": [
    "# descriptive statistics for numeric variables\n",
    "print(df.describe())"
   ]
  },
  {
   "cell_type": "code",
   "execution_count": 6,
   "metadata": {},
   "outputs": [
    {
     "data": {
      "text/html": [
       "<div>\n",
       "<style scoped>\n",
       "    .dataframe tbody tr th:only-of-type {\n",
       "        vertical-align: middle;\n",
       "    }\n",
       "\n",
       "    .dataframe tbody tr th {\n",
       "        vertical-align: top;\n",
       "    }\n",
       "\n",
       "    .dataframe thead th {\n",
       "        text-align: right;\n",
       "    }\n",
       "</style>\n",
       "<table border=\"1\" class=\"dataframe\">\n",
       "  <thead>\n",
       "    <tr style=\"text-align: right;\">\n",
       "      <th></th>\n",
       "      <th>subject_id</th>\n",
       "      <th>stay_id</th>\n",
       "      <th>age</th>\n",
       "      <th>gender</th>\n",
       "      <th>ethnicity</th>\n",
       "      <th>first_careunit</th>\n",
       "      <th>admission_type</th>\n",
       "      <th>sapsii</th>\n",
       "      <th>sapsii_prob</th>\n",
       "      <th>cci</th>\n",
       "      <th>height</th>\n",
       "      <th>weight</th>\n",
       "      <th>bmi</th>\n",
       "      <th>mortality</th>\n",
       "      <th>day_28_mortality</th>\n",
       "      <th>mortality_duration</th>\n",
       "      <th>day_28_extubation</th>\n",
       "      <th>vent_duration</th>\n",
       "      <th>los_icu</th>\n",
       "    </tr>\n",
       "  </thead>\n",
       "  <tbody>\n",
       "  </tbody>\n",
       "</table>\n",
       "</div>"
      ],
      "text/plain": [
       "Empty DataFrame\n",
       "Columns: [subject_id, stay_id, age, gender, ethnicity, first_careunit, admission_type, sapsii, sapsii_prob, cci, height, weight, bmi, mortality, day_28_mortality, mortality_duration, day_28_extubation, vent_duration, los_icu]\n",
       "Index: []"
      ]
     },
     "execution_count": 6,
     "metadata": {},
     "output_type": "execute_result"
    }
   ],
   "source": [
    "# look for duplicates\n",
    "duplicated_rows = df[df.duplicated()]\n",
    "duplicated_rows"
   ]
  },
  {
   "cell_type": "markdown",
   "metadata": {},
   "source": [
    "# Data Exploration"
   ]
  },
  {
   "cell_type": "markdown",
   "metadata": {},
   "source": [
    "## Univariate Exploration:"
   ]
  },
  {
   "cell_type": "markdown",
   "metadata": {},
   "source": [
    "### Age:"
   ]
  },
  {
   "cell_type": "code",
   "execution_count": 7,
   "metadata": {},
   "outputs": [
    {
     "data": {
      "image/png": "[encoded data removed]",
      "text/plain": [
       "<Figure size 576x360 with 1 Axes>"
      ]
     },
     "metadata": {},
     "output_type": "display_data"
    }
   ],
   "source": [
    "# start with a standard-scaled plot for age\n",
    "binsize = 1\n",
    "bins = np.arange(20, 100+binsize, binsize)\n",
    "\n",
    "plt.figure(figsize=[8, 5])\n",
    "plt.hist(data = df, x = 'age', bins = bins)\n",
    "plt.xlabel('Age (years)')\n",
    "plt.show()"
   ]
  },
  {
   "cell_type": "markdown",
   "metadata": {},
   "source": [
    "as shown the age range from early 20th to 90th with nearly normal distribution shape"
   ]
  },
  {
   "cell_type": "markdown",
   "metadata": {},
   "source": [
    "### Gender:"
   ]
  },
  {
   "cell_type": "code",
   "execution_count": 8,
   "metadata": {},
   "outputs": [
    {
     "data": {
      "text/plain": [
       "M    440\n",
       "F    409\n",
       "Name: gender, dtype: int64"
      ]
     },
     "execution_count": 8,
     "metadata": {},
     "output_type": "execute_result"
    }
   ],
   "source": [
    "df_gender = df['gender'].value_counts()\n",
    "df_gender"
   ]
  },
  {
   "cell_type": "markdown",
   "metadata": {},
   "source": [
    "### BMI:"
   ]
  },
  {
   "cell_type": "code",
   "execution_count": 9,
   "metadata": {},
   "outputs": [
    {
     "data": {
      "image/png": "[encoded data removed]",
      "text/plain": [
       "<Figure size 576x360 with 1 Axes>"
      ]
     },
     "metadata": {},
     "output_type": "display_data"
    }
   ],
   "source": [
    "# start with a standard-scaled plot for BMI\n",
    "binsize = 5\n",
    "bins = np.arange(0, 60+binsize, binsize)\n",
    "\n",
    "plt.figure(figsize=[8, 5])\n",
    "plt.hist(data = df, x = 'bmi', bins = bins)\n",
    "plt.xlabel('BMI')\n",
    "plt.show()"
   ]
  },
  {
   "cell_type": "markdown",
   "metadata": {},
   "source": [
    "### SAPS II score:"
   ]
  },
  {
   "cell_type": "code",
   "execution_count": 10,
   "metadata": {},
   "outputs": [
    {
     "data": {
      "image/png": "[encoded data removed]",
      "text/plain": [
       "<Figure size 576x360 with 1 Axes>"
      ]
     },
     "metadata": {},
     "output_type": "display_data"
    }
   ],
   "source": [
    "# start with a standard-scaled plot SAPS ii\n",
    "binsize = 5\n",
    "bins = np.arange(0, 100+binsize, binsize)\n",
    "\n",
    "plt.figure(figsize=[8, 5])\n",
    "plt.hist(data = df, x = 'sapsii', bins = bins)\n",
    "plt.xlabel('SAPS II Score')\n",
    "plt.show()"
   ]
  },
  {
   "cell_type": "markdown",
   "metadata": {},
   "source": [
    "### CCI Score:"
   ]
  },
  {
   "cell_type": "code",
   "execution_count": 11,
   "metadata": {
    "scrolled": true
   },
   "outputs": [
    {
     "data": {
      "image/png": "[encoded data removed]",
      "text/plain": [
       "<Figure size 576x360 with 1 Axes>"
      ]
     },
     "metadata": {},
     "output_type": "display_data"
    }
   ],
   "source": [
    "# start with a standard-scaled plot\n",
    "binsize = 1\n",
    "bins = np.arange(0, 15+binsize, binsize)\n",
    "\n",
    "plt.figure(figsize=[8, 5])\n",
    "plt.hist(data = df, x = 'cci', bins = bins)\n",
    "plt.xlabel('CCI Score')\n",
    "plt.show()"
   ]
  },
  {
   "cell_type": "markdown",
   "metadata": {},
   "source": [
    "### Length Of Stay in ICU"
   ]
  },
  {
   "cell_type": "code",
   "execution_count": 91,
   "metadata": {},
   "outputs": [
    {
     "data": {
      "image/png": "[encoded data removed]",
      "text/plain": [
       "<Figure size 576x360 with 1 Axes>"
      ]
     },
     "metadata": {},
     "output_type": "display_data"
    }
   ],
   "source": [
    "# start with a standard-scaled plot LOS ICU\n",
    "binsize = 1\n",
    "bins = np.arange(0, 30+binsize, binsize)\n",
    "\n",
    "plt.figure(figsize=[8, 5])\n",
    "plt.hist(data = df, x = 'los_icu', bins = bins)\n",
    "plt.xlabel('Length Of Stay in ICU')\n",
    "plt.show()"
   ]
  },
  {
   "cell_type": "markdown",
   "metadata": {},
   "source": [
    "* Length of stay in ICU is left skewed as 75% of patients stayed for lees than 5 days in ICU\n",
    "* their is a couple of outliers we need to deal with."
   ]
  },
  {
   "cell_type": "markdown",
   "metadata": {},
   "source": [
    "### Ventilation Duration"
   ]
  },
  {
   "cell_type": "code",
   "execution_count": 13,
   "metadata": {},
   "outputs": [
    {
     "data": {
      "image/png": "[encoded data removed]",
      "text/plain": [
       "<Figure size 576x360 with 1 Axes>"
      ]
     },
     "metadata": {},
     "output_type": "display_data"
    }
   ],
   "source": [
    "# start with a standard-scaled plot ventilation duration\n",
    "binsize = 1\n",
    "bins = np.arange(0,30+binsize, binsize)\n",
    "\n",
    "plt.figure(figsize=[8, 5])\n",
    "plt.hist(data = df, x = 'vent_duration', bins = bins)\n",
    "plt.xlabel('Ventilation Duration')\n",
    "plt.show()"
   ]
  },
  {
   "cell_type": "markdown",
   "metadata": {},
   "source": [
    "* we notice that 25% of patients has 0 ventilation duration which mainly mean we don't now exactly if they never been intubated or their intubation period is un known\n"
   ]
  },
  {
   "cell_type": "markdown",
   "metadata": {},
   "source": [
    "### Patients extubated before 28 days"
   ]
  },
  {
   "cell_type": "code",
   "execution_count": 14,
   "metadata": {},
   "outputs": [
    {
     "data": {
      "image/png": "[encoded data removed]",
      "text/plain": [
       "<Figure size 576x432 with 1 Axes>"
      ]
     },
     "metadata": {},
     "output_type": "display_data"
    }
   ],
   "source": [
    "default_color = sns.color_palette()[0]\n",
    "plt.figure(figsize=[8, 6])\n",
    "sns.countplot(data = df, x = 'day_28_extubation', color = default_color)\n",
    "# Use xticks to rotate the category labels (not axes) counter-clockwise\n",
    "plt.xticks(rotation=90);"
   ]
  },
  {
   "cell_type": "markdown",
   "metadata": {},
   "source": [
    "* few number of patients fail to be extubated before day 28"
   ]
  },
  {
   "cell_type": "markdown",
   "metadata": {},
   "source": [
    "### Mortality before 28 days"
   ]
  },
  {
   "cell_type": "code",
   "execution_count": 15,
   "metadata": {},
   "outputs": [
    {
     "data": {
      "image/png": "[encoded data removed]",
      "text/plain": [
       "<Figure size 576x432 with 1 Axes>"
      ]
     },
     "metadata": {},
     "output_type": "display_data"
    }
   ],
   "source": [
    "default_color = sns.color_palette()[0]\n",
    "plt.figure(figsize=[8, 6])\n",
    "sns.countplot(data = df, x = 'day_28_mortality', color = default_color)\n",
    "# Use xticks to rotate the category labels (not axes) counter-clockwise\n",
    "plt.xticks(rotation=90);"
   ]
  },
  {
   "cell_type": "code",
   "execution_count": 16,
   "metadata": {},
   "outputs": [],
   "source": [
    "numeric_vars = ['vent_duration', 'sapsii', 'cci', 'los_icu', 'age', 'bmi']\n",
    "categoric_vars = [ 'day_14_extubation', 'day_28_extubation', 'gender', 'day_28_mortality']"
   ]
  },
  {
   "cell_type": "code",
   "execution_count": 17,
   "metadata": {},
   "outputs": [
    {
     "data": {
      "text/plain": [
       "<Figure size 2160x1440 with 0 Axes>"
      ]
     },
     "metadata": {},
     "output_type": "display_data"
    },
    {
     "data": {
      "image/png": "[encoded data removed]",
      "text/plain": [
       "<Figure size 324x1296 with 6 Axes>"
      ]
     },
     "metadata": {},
     "output_type": "display_data"
    }
   ],
   "source": [
    "# plot matrix of numeric features against categorical features.\n",
    "\n",
    "samples = np.random.choice(df.shape[0], 20, replace = False)\n",
    "data_samp = df.reindex(samples)\n",
    "\n",
    "def boxgrid(x, y, **kwargs):\n",
    "    \"\"\" Quick hack for creating box plots with seaborn's PairGrid. \"\"\"\n",
    "    default_color = sns.color_palette()[0]\n",
    "    sns.boxplot(x, y, color = default_color)\n",
    "\n",
    "plt.figure(figsize = [30, 20])\n",
    "g = sns.PairGrid(data =data_samp, y_vars = numeric_vars , x_vars = ['gender'],\n",
    "                height = 3, aspect = 1.5)\n",
    "g.map(boxgrid)\n",
    "plt.show();"
   ]
  },
  {
   "cell_type": "markdown",
   "metadata": {},
   "source": [
    "* From the box plot between bivariate we notice the following:\n",
    "- Gender will act as effect modifier within this data set and it is better to stratfy the analysis according to the gender \n",
    "- BMI column has an outlier in female patients\n",
    "- Age column has an outlier in female patients\n",
    "- LOS ICU column has an outlier in female and male patients\n",
    "- vent duration column has an outlier in female and male patients"
   ]
  },
  {
   "cell_type": "markdown",
   "metadata": {},
   "source": [
    "<a id='process'></a>\n",
    "# Data processing:"
   ]
  },
  {
   "cell_type": "code",
   "execution_count": 18,
   "metadata": {},
   "outputs": [],
   "source": [
    "# we start with making a copy of the data frame\n",
    "df_clean = df.copy()"
   ]
  },
  {
   "cell_type": "markdown",
   "metadata": {},
   "source": [
    "### 1. Create 'day_14_extubation' column "
   ]
  },
  {
   "cell_type": "code",
   "execution_count": 19,
   "metadata": {
    "scrolled": true
   },
   "outputs": [
    {
     "data": {
      "text/html": [
       "<div>\n",
       "<style scoped>\n",
       "    .dataframe tbody tr th:only-of-type {\n",
       "        vertical-align: middle;\n",
       "    }\n",
       "\n",
       "    .dataframe tbody tr th {\n",
       "        vertical-align: top;\n",
       "    }\n",
       "\n",
       "    .dataframe thead th {\n",
       "        text-align: right;\n",
       "    }\n",
       "</style>\n",
       "<table border=\"1\" class=\"dataframe\">\n",
       "  <thead>\n",
       "    <tr style=\"text-align: right;\">\n",
       "      <th></th>\n",
       "      <th>subject_id</th>\n",
       "      <th>stay_id</th>\n",
       "      <th>age</th>\n",
       "      <th>gender</th>\n",
       "      <th>ethnicity</th>\n",
       "      <th>first_careunit</th>\n",
       "      <th>admission_type</th>\n",
       "      <th>sapsii</th>\n",
       "      <th>sapsii_prob</th>\n",
       "      <th>cci</th>\n",
       "      <th>height</th>\n",
       "      <th>weight</th>\n",
       "      <th>bmi</th>\n",
       "      <th>mortality</th>\n",
       "      <th>day_28_mortality</th>\n",
       "      <th>mortality_duration</th>\n",
       "      <th>day_28_extubation</th>\n",
       "      <th>vent_duration</th>\n",
       "      <th>los_icu</th>\n",
       "    </tr>\n",
       "  </thead>\n",
       "  <tbody>\n",
       "    <tr>\n",
       "      <th>0</th>\n",
       "      <td>10025612</td>\n",
       "      <td>32587226</td>\n",
       "      <td>83</td>\n",
       "      <td>M</td>\n",
       "      <td>WHITE</td>\n",
       "      <td>Surgical Intensive Care Unit (SICU)</td>\n",
       "      <td>SURGICAL SAME DAY ADMISSION</td>\n",
       "      <td>45</td>\n",
       "      <td>0</td>\n",
       "      <td>6</td>\n",
       "      <td>169</td>\n",
       "      <td>77</td>\n",
       "      <td>27</td>\n",
       "      <td>survive</td>\n",
       "      <td>survive</td>\n",
       "      <td>NaN</td>\n",
       "      <td>Success</td>\n",
       "      <td>0</td>\n",
       "      <td>5</td>\n",
       "    </tr>\n",
       "    <tr>\n",
       "      <th>1</th>\n",
       "      <td>10026161</td>\n",
       "      <td>39625056</td>\n",
       "      <td>79</td>\n",
       "      <td>M</td>\n",
       "      <td>WHITE</td>\n",
       "      <td>Medical/Surgical Intensive Care Unit (MICU/SICU)</td>\n",
       "      <td>SURGICAL SAME DAY ADMISSION</td>\n",
       "      <td>65</td>\n",
       "      <td>1</td>\n",
       "      <td>9</td>\n",
       "      <td>180</td>\n",
       "      <td>90</td>\n",
       "      <td>28</td>\n",
       "      <td>survive</td>\n",
       "      <td>survive</td>\n",
       "      <td>NaN</td>\n",
       "      <td>Success</td>\n",
       "      <td>4</td>\n",
       "      <td>4</td>\n",
       "    </tr>\n",
       "    <tr>\n",
       "      <th>2</th>\n",
       "      <td>10034317</td>\n",
       "      <td>36228864</td>\n",
       "      <td>73</td>\n",
       "      <td>M</td>\n",
       "      <td>WHITE</td>\n",
       "      <td>Trauma SICU (TSICU)</td>\n",
       "      <td>SURGICAL SAME DAY ADMISSION</td>\n",
       "      <td>56</td>\n",
       "      <td>1</td>\n",
       "      <td>9</td>\n",
       "      <td>183</td>\n",
       "      <td>89</td>\n",
       "      <td>27</td>\n",
       "      <td>survive</td>\n",
       "      <td>survive</td>\n",
       "      <td>NaN</td>\n",
       "      <td>Success</td>\n",
       "      <td>0</td>\n",
       "      <td>3</td>\n",
       "    </tr>\n",
       "    <tr>\n",
       "      <th>3</th>\n",
       "      <td>10062020</td>\n",
       "      <td>35323579</td>\n",
       "      <td>66</td>\n",
       "      <td>F</td>\n",
       "      <td>WHITE</td>\n",
       "      <td>Trauma SICU (TSICU)</td>\n",
       "      <td>SURGICAL SAME DAY ADMISSION</td>\n",
       "      <td>45</td>\n",
       "      <td>0</td>\n",
       "      <td>9</td>\n",
       "      <td>169</td>\n",
       "      <td>100</td>\n",
       "      <td>35</td>\n",
       "      <td>survive</td>\n",
       "      <td>survive</td>\n",
       "      <td>NaN</td>\n",
       "      <td>Success</td>\n",
       "      <td>0</td>\n",
       "      <td>1</td>\n",
       "    </tr>\n",
       "    <tr>\n",
       "      <th>4</th>\n",
       "      <td>10109085</td>\n",
       "      <td>37504676</td>\n",
       "      <td>69</td>\n",
       "      <td>M</td>\n",
       "      <td>WHITE</td>\n",
       "      <td>Trauma SICU (TSICU)</td>\n",
       "      <td>SURGICAL SAME DAY ADMISSION</td>\n",
       "      <td>39</td>\n",
       "      <td>0</td>\n",
       "      <td>9</td>\n",
       "      <td>180</td>\n",
       "      <td>91</td>\n",
       "      <td>28</td>\n",
       "      <td>survive</td>\n",
       "      <td>survive</td>\n",
       "      <td>NaN</td>\n",
       "      <td>Success</td>\n",
       "      <td>0</td>\n",
       "      <td>5</td>\n",
       "    </tr>\n",
       "  </tbody>\n",
       "</table>\n",
       "</div>"
      ],
      "text/plain": [
       "   subject_id   stay_id  age gender ethnicity  \\\n",
       "0    10025612  32587226   83      M     WHITE   \n",
       "1    10026161  39625056   79      M     WHITE   \n",
       "2    10034317  36228864   73      M     WHITE   \n",
       "3    10062020  35323579   66      F     WHITE   \n",
       "4    10109085  37504676   69      M     WHITE   \n",
       "\n",
       "                                     first_careunit  \\\n",
       "0               Surgical Intensive Care Unit (SICU)   \n",
       "1  Medical/Surgical Intensive Care Unit (MICU/SICU)   \n",
       "2                               Trauma SICU (TSICU)   \n",
       "3                               Trauma SICU (TSICU)   \n",
       "4                               Trauma SICU (TSICU)   \n",
       "\n",
       "                admission_type  sapsii  sapsii_prob  cci  height  weight  bmi  \\\n",
       "0  SURGICAL SAME DAY ADMISSION      45            0    6     169      77   27   \n",
       "1  SURGICAL SAME DAY ADMISSION      65            1    9     180      90   28   \n",
       "2  SURGICAL SAME DAY ADMISSION      56            1    9     183      89   27   \n",
       "3  SURGICAL SAME DAY ADMISSION      45            0    9     169     100   35   \n",
       "4  SURGICAL SAME DAY ADMISSION      39            0    9     180      91   28   \n",
       "\n",
       "  mortality day_28_mortality  mortality_duration day_28_extubation  \\\n",
       "0   survive          survive                 NaN           Success   \n",
       "1   survive          survive                 NaN           Success   \n",
       "2   survive          survive                 NaN           Success   \n",
       "3   survive          survive                 NaN           Success   \n",
       "4   survive          survive                 NaN           Success   \n",
       "\n",
       "   vent_duration  los_icu  \n",
       "0              0        5  \n",
       "1              4        4  \n",
       "2              0        3  \n",
       "3              0        1  \n",
       "4              0        5  "
      ]
     },
     "execution_count": 19,
     "metadata": {},
     "output_type": "execute_result"
    }
   ],
   "source": [
    "# create the new column\n",
    "df_clean['day_14_extubation'] = (df_clean['vent_duration'] <=14) & (df_clean['mortality'] == 'survive')\n",
    "df.head()"
   ]
  },
  {
   "cell_type": "markdown",
   "metadata": {},
   "source": [
    "### 2. Create 'day_14_mortality' column "
   ]
  },
  {
   "cell_type": "code",
   "execution_count": 20,
   "metadata": {
    "scrolled": true
   },
   "outputs": [
    {
     "data": {
      "text/html": [
       "<div>\n",
       "<style scoped>\n",
       "    .dataframe tbody tr th:only-of-type {\n",
       "        vertical-align: middle;\n",
       "    }\n",
       "\n",
       "    .dataframe tbody tr th {\n",
       "        vertical-align: top;\n",
       "    }\n",
       "\n",
       "    .dataframe thead th {\n",
       "        text-align: right;\n",
       "    }\n",
       "</style>\n",
       "<table border=\"1\" class=\"dataframe\">\n",
       "  <thead>\n",
       "    <tr style=\"text-align: right;\">\n",
       "      <th></th>\n",
       "      <th>subject_id</th>\n",
       "      <th>stay_id</th>\n",
       "      <th>age</th>\n",
       "      <th>gender</th>\n",
       "      <th>ethnicity</th>\n",
       "      <th>first_careunit</th>\n",
       "      <th>admission_type</th>\n",
       "      <th>sapsii</th>\n",
       "      <th>sapsii_prob</th>\n",
       "      <th>cci</th>\n",
       "      <th>height</th>\n",
       "      <th>weight</th>\n",
       "      <th>bmi</th>\n",
       "      <th>mortality</th>\n",
       "      <th>day_28_mortality</th>\n",
       "      <th>mortality_duration</th>\n",
       "      <th>day_28_extubation</th>\n",
       "      <th>vent_duration</th>\n",
       "      <th>los_icu</th>\n",
       "    </tr>\n",
       "  </thead>\n",
       "  <tbody>\n",
       "    <tr>\n",
       "      <th>0</th>\n",
       "      <td>10025612</td>\n",
       "      <td>32587226</td>\n",
       "      <td>83</td>\n",
       "      <td>M</td>\n",
       "      <td>WHITE</td>\n",
       "      <td>Surgical Intensive Care Unit (SICU)</td>\n",
       "      <td>SURGICAL SAME DAY ADMISSION</td>\n",
       "      <td>45</td>\n",
       "      <td>0</td>\n",
       "      <td>6</td>\n",
       "      <td>169</td>\n",
       "      <td>77</td>\n",
       "      <td>27</td>\n",
       "      <td>survive</td>\n",
       "      <td>survive</td>\n",
       "      <td>NaN</td>\n",
       "      <td>Success</td>\n",
       "      <td>0</td>\n",
       "      <td>5</td>\n",
       "    </tr>\n",
       "    <tr>\n",
       "      <th>1</th>\n",
       "      <td>10026161</td>\n",
       "      <td>39625056</td>\n",
       "      <td>79</td>\n",
       "      <td>M</td>\n",
       "      <td>WHITE</td>\n",
       "      <td>Medical/Surgical Intensive Care Unit (MICU/SICU)</td>\n",
       "      <td>SURGICAL SAME DAY ADMISSION</td>\n",
       "      <td>65</td>\n",
       "      <td>1</td>\n",
       "      <td>9</td>\n",
       "      <td>180</td>\n",
       "      <td>90</td>\n",
       "      <td>28</td>\n",
       "      <td>survive</td>\n",
       "      <td>survive</td>\n",
       "      <td>NaN</td>\n",
       "      <td>Success</td>\n",
       "      <td>4</td>\n",
       "      <td>4</td>\n",
       "    </tr>\n",
       "    <tr>\n",
       "      <th>2</th>\n",
       "      <td>10034317</td>\n",
       "      <td>36228864</td>\n",
       "      <td>73</td>\n",
       "      <td>M</td>\n",
       "      <td>WHITE</td>\n",
       "      <td>Trauma SICU (TSICU)</td>\n",
       "      <td>SURGICAL SAME DAY ADMISSION</td>\n",
       "      <td>56</td>\n",
       "      <td>1</td>\n",
       "      <td>9</td>\n",
       "      <td>183</td>\n",
       "      <td>89</td>\n",
       "      <td>27</td>\n",
       "      <td>survive</td>\n",
       "      <td>survive</td>\n",
       "      <td>NaN</td>\n",
       "      <td>Success</td>\n",
       "      <td>0</td>\n",
       "      <td>3</td>\n",
       "    </tr>\n",
       "    <tr>\n",
       "      <th>3</th>\n",
       "      <td>10062020</td>\n",
       "      <td>35323579</td>\n",
       "      <td>66</td>\n",
       "      <td>F</td>\n",
       "      <td>WHITE</td>\n",
       "      <td>Trauma SICU (TSICU)</td>\n",
       "      <td>SURGICAL SAME DAY ADMISSION</td>\n",
       "      <td>45</td>\n",
       "      <td>0</td>\n",
       "      <td>9</td>\n",
       "      <td>169</td>\n",
       "      <td>100</td>\n",
       "      <td>35</td>\n",
       "      <td>survive</td>\n",
       "      <td>survive</td>\n",
       "      <td>NaN</td>\n",
       "      <td>Success</td>\n",
       "      <td>0</td>\n",
       "      <td>1</td>\n",
       "    </tr>\n",
       "    <tr>\n",
       "      <th>4</th>\n",
       "      <td>10109085</td>\n",
       "      <td>37504676</td>\n",
       "      <td>69</td>\n",
       "      <td>M</td>\n",
       "      <td>WHITE</td>\n",
       "      <td>Trauma SICU (TSICU)</td>\n",
       "      <td>SURGICAL SAME DAY ADMISSION</td>\n",
       "      <td>39</td>\n",
       "      <td>0</td>\n",
       "      <td>9</td>\n",
       "      <td>180</td>\n",
       "      <td>91</td>\n",
       "      <td>28</td>\n",
       "      <td>survive</td>\n",
       "      <td>survive</td>\n",
       "      <td>NaN</td>\n",
       "      <td>Success</td>\n",
       "      <td>0</td>\n",
       "      <td>5</td>\n",
       "    </tr>\n",
       "  </tbody>\n",
       "</table>\n",
       "</div>"
      ],
      "text/plain": [
       "   subject_id   stay_id  age gender ethnicity  \\\n",
       "0    10025612  32587226   83      M     WHITE   \n",
       "1    10026161  39625056   79      M     WHITE   \n",
       "2    10034317  36228864   73      M     WHITE   \n",
       "3    10062020  35323579   66      F     WHITE   \n",
       "4    10109085  37504676   69      M     WHITE   \n",
       "\n",
       "                                     first_careunit  \\\n",
       "0               Surgical Intensive Care Unit (SICU)   \n",
       "1  Medical/Surgical Intensive Care Unit (MICU/SICU)   \n",
       "2                               Trauma SICU (TSICU)   \n",
       "3                               Trauma SICU (TSICU)   \n",
       "4                               Trauma SICU (TSICU)   \n",
       "\n",
       "                admission_type  sapsii  sapsii_prob  cci  height  weight  bmi  \\\n",
       "0  SURGICAL SAME DAY ADMISSION      45            0    6     169      77   27   \n",
       "1  SURGICAL SAME DAY ADMISSION      65            1    9     180      90   28   \n",
       "2  SURGICAL SAME DAY ADMISSION      56            1    9     183      89   27   \n",
       "3  SURGICAL SAME DAY ADMISSION      45            0    9     169     100   35   \n",
       "4  SURGICAL SAME DAY ADMISSION      39            0    9     180      91   28   \n",
       "\n",
       "  mortality day_28_mortality  mortality_duration day_28_extubation  \\\n",
       "0   survive          survive                 NaN           Success   \n",
       "1   survive          survive                 NaN           Success   \n",
       "2   survive          survive                 NaN           Success   \n",
       "3   survive          survive                 NaN           Success   \n",
       "4   survive          survive                 NaN           Success   \n",
       "\n",
       "   vent_duration  los_icu  \n",
       "0              0        5  \n",
       "1              4        4  \n",
       "2              0        3  \n",
       "3              0        1  \n",
       "4              0        5  "
      ]
     },
     "execution_count": 20,
     "metadata": {},
     "output_type": "execute_result"
    }
   ],
   "source": [
    "# create the new column\n",
    "df_clean['day_14_mortality'] = (df_clean['vent_duration'] <=14) & (df_clean['mortality'] == 'survive')\n",
    "df.head()"
   ]
  },
  {
   "cell_type": "markdown",
   "metadata": {},
   "source": [
    "### Dealing with outliers:"
   ]
  },
  {
   "cell_type": "code",
   "execution_count": 21,
   "metadata": {},
   "outputs": [
    {
     "data": {
      "text/plain": [
       "23.0"
      ]
     },
     "execution_count": 21,
     "metadata": {},
     "output_type": "execute_result"
    }
   ],
   "source": [
    "# dealing with the outliers values in los_icu\n",
    "q = df_clean['los_icu'].quantile(0.99)\n",
    "q"
   ]
  },
  {
   "cell_type": "code",
   "execution_count": 22,
   "metadata": {},
   "outputs": [],
   "source": [
    "df_clean = df_clean[df_clean['los_icu'] <= q]"
   ]
  },
  {
   "cell_type": "code",
   "execution_count": 23,
   "metadata": {},
   "outputs": [
    {
     "data": {
      "text/plain": [
       "23"
      ]
     },
     "execution_count": 23,
     "metadata": {},
     "output_type": "execute_result"
    }
   ],
   "source": [
    "#Test\n",
    "df_clean['los_icu'].max()"
   ]
  },
  {
   "cell_type": "code",
   "execution_count": 24,
   "metadata": {},
   "outputs": [
    {
     "data": {
      "text/plain": [
       "88.60000000000002"
      ]
     },
     "execution_count": 24,
     "metadata": {},
     "output_type": "execute_result"
    }
   ],
   "source": [
    "# dealing with the outliers values in age\n",
    "q = df_clean['age'].quantile(0.99)\n",
    "q"
   ]
  },
  {
   "cell_type": "code",
   "execution_count": 25,
   "metadata": {},
   "outputs": [
    {
     "data": {
      "text/plain": [
       "88"
      ]
     },
     "execution_count": 25,
     "metadata": {},
     "output_type": "execute_result"
    }
   ],
   "source": [
    "df_clean = df_clean[df_clean['age'] <= q]\n",
    "#Test\n",
    "df_clean['age'].max()"
   ]
  },
  {
   "cell_type": "code",
   "execution_count": 26,
   "metadata": {},
   "outputs": [
    {
     "data": {
      "text/plain": [
       "14.0"
      ]
     },
     "execution_count": 26,
     "metadata": {},
     "output_type": "execute_result"
    }
   ],
   "source": [
    "# dealing with the outliers values in vent_duration\n",
    "q = df_clean['vent_duration'].quantile(0.99)\n",
    "q"
   ]
  },
  {
   "cell_type": "code",
   "execution_count": 27,
   "metadata": {},
   "outputs": [
    {
     "data": {
      "text/plain": [
       "14"
      ]
     },
     "execution_count": 27,
     "metadata": {},
     "output_type": "execute_result"
    }
   ],
   "source": [
    "df_clean = df_clean[df_clean['vent_duration'] <= q]\n",
    "#Test\n",
    "df_clean['vent_duration'].max()"
   ]
  },
  {
   "cell_type": "code",
   "execution_count": 28,
   "metadata": {},
   "outputs": [
    {
     "data": {
      "text/plain": [
       "53.0"
      ]
     },
     "execution_count": 28,
     "metadata": {},
     "output_type": "execute_result"
    }
   ],
   "source": [
    "# dealing with the outliers values in bmi\n",
    "q = df_clean['bmi'].quantile(0.99)\n",
    "q"
   ]
  },
  {
   "cell_type": "code",
   "execution_count": 29,
   "metadata": {},
   "outputs": [
    {
     "data": {
      "text/plain": [
       "53"
      ]
     },
     "execution_count": 29,
     "metadata": {},
     "output_type": "execute_result"
    }
   ],
   "source": [
    "df_clean = df_clean[df_clean['bmi'] <= q]\n",
    "#Test\n",
    "df_clean['bmi'].max()"
   ]
  },
  {
   "cell_type": "code",
   "execution_count": 30,
   "metadata": {},
   "outputs": [],
   "source": [
    "#replace True and false to boolean type data ( 0 or 1)\n",
    "#df['day_14_extubation'].replace({True: 1, False : 0}, inplace = True)\n",
    "#df['day_14_extubation'] = df['day_14_extubation'].astype('bool')\n",
    "#df.info()"
   ]
  },
  {
   "cell_type": "markdown",
   "metadata": {},
   "source": [
    "## 3. Divide the data in BMI  column as follows:\n",
    ">BMI < 18\n",
    "\n",
    ">BMI (18-24.9)\n",
    "\n",
    ">BMI (25-29.9)\n",
    "\n",
    ">BMI > 30"
   ]
  },
  {
   "cell_type": "code",
   "execution_count": 31,
   "metadata": {},
   "outputs": [],
   "source": [
    "# dividing the bmi as different ranges\n",
    "def f(x):\n",
    "    if (x < 18) :\n",
    "        return '<18'\n",
    "    elif (x >= 18) and (x <= 24.9):\n",
    "        return'18-29.9'\n",
    "    elif (x >= 25) and (x <= 29.9):\n",
    "        return'25-29.9'\n",
    "    elif (x >30):\n",
    "        return'>30'"
   ]
  },
  {
   "cell_type": "code",
   "execution_count": 32,
   "metadata": {},
   "outputs": [],
   "source": [
    "df_clean['bmi_range'] = df_clean['bmi'].apply(f)"
   ]
  },
  {
   "cell_type": "code",
   "execution_count": 33,
   "metadata": {},
   "outputs": [
    {
     "data": {
      "text/html": [
       "<div>\n",
       "<style scoped>\n",
       "    .dataframe tbody tr th:only-of-type {\n",
       "        vertical-align: middle;\n",
       "    }\n",
       "\n",
       "    .dataframe tbody tr th {\n",
       "        vertical-align: top;\n",
       "    }\n",
       "\n",
       "    .dataframe thead th {\n",
       "        text-align: right;\n",
       "    }\n",
       "</style>\n",
       "<table border=\"1\" class=\"dataframe\">\n",
       "  <thead>\n",
       "    <tr style=\"text-align: right;\">\n",
       "      <th></th>\n",
       "      <th>subject_id</th>\n",
       "      <th>stay_id</th>\n",
       "      <th>age</th>\n",
       "      <th>gender</th>\n",
       "      <th>ethnicity</th>\n",
       "      <th>first_careunit</th>\n",
       "      <th>admission_type</th>\n",
       "      <th>sapsii</th>\n",
       "      <th>sapsii_prob</th>\n",
       "      <th>cci</th>\n",
       "      <th>...</th>\n",
       "      <th>bmi</th>\n",
       "      <th>mortality</th>\n",
       "      <th>day_28_mortality</th>\n",
       "      <th>mortality_duration</th>\n",
       "      <th>day_28_extubation</th>\n",
       "      <th>vent_duration</th>\n",
       "      <th>los_icu</th>\n",
       "      <th>day_14_extubation</th>\n",
       "      <th>day_14_mortality</th>\n",
       "      <th>bmi_range</th>\n",
       "    </tr>\n",
       "  </thead>\n",
       "  <tbody>\n",
       "    <tr>\n",
       "      <th>0</th>\n",
       "      <td>10025612</td>\n",
       "      <td>32587226</td>\n",
       "      <td>83</td>\n",
       "      <td>M</td>\n",
       "      <td>WHITE</td>\n",
       "      <td>Surgical Intensive Care Unit (SICU)</td>\n",
       "      <td>SURGICAL SAME DAY ADMISSION</td>\n",
       "      <td>45</td>\n",
       "      <td>0</td>\n",
       "      <td>6</td>\n",
       "      <td>...</td>\n",
       "      <td>27</td>\n",
       "      <td>survive</td>\n",
       "      <td>survive</td>\n",
       "      <td>NaN</td>\n",
       "      <td>Success</td>\n",
       "      <td>0</td>\n",
       "      <td>5</td>\n",
       "      <td>True</td>\n",
       "      <td>True</td>\n",
       "      <td>25-29.9</td>\n",
       "    </tr>\n",
       "    <tr>\n",
       "      <th>1</th>\n",
       "      <td>10026161</td>\n",
       "      <td>39625056</td>\n",
       "      <td>79</td>\n",
       "      <td>M</td>\n",
       "      <td>WHITE</td>\n",
       "      <td>Medical/Surgical Intensive Care Unit (MICU/SICU)</td>\n",
       "      <td>SURGICAL SAME DAY ADMISSION</td>\n",
       "      <td>65</td>\n",
       "      <td>1</td>\n",
       "      <td>9</td>\n",
       "      <td>...</td>\n",
       "      <td>28</td>\n",
       "      <td>survive</td>\n",
       "      <td>survive</td>\n",
       "      <td>NaN</td>\n",
       "      <td>Success</td>\n",
       "      <td>4</td>\n",
       "      <td>4</td>\n",
       "      <td>True</td>\n",
       "      <td>True</td>\n",
       "      <td>25-29.9</td>\n",
       "    </tr>\n",
       "    <tr>\n",
       "      <th>2</th>\n",
       "      <td>10034317</td>\n",
       "      <td>36228864</td>\n",
       "      <td>73</td>\n",
       "      <td>M</td>\n",
       "      <td>WHITE</td>\n",
       "      <td>Trauma SICU (TSICU)</td>\n",
       "      <td>SURGICAL SAME DAY ADMISSION</td>\n",
       "      <td>56</td>\n",
       "      <td>1</td>\n",
       "      <td>9</td>\n",
       "      <td>...</td>\n",
       "      <td>27</td>\n",
       "      <td>survive</td>\n",
       "      <td>survive</td>\n",
       "      <td>NaN</td>\n",
       "      <td>Success</td>\n",
       "      <td>0</td>\n",
       "      <td>3</td>\n",
       "      <td>True</td>\n",
       "      <td>True</td>\n",
       "      <td>25-29.9</td>\n",
       "    </tr>\n",
       "    <tr>\n",
       "      <th>3</th>\n",
       "      <td>10062020</td>\n",
       "      <td>35323579</td>\n",
       "      <td>66</td>\n",
       "      <td>F</td>\n",
       "      <td>WHITE</td>\n",
       "      <td>Trauma SICU (TSICU)</td>\n",
       "      <td>SURGICAL SAME DAY ADMISSION</td>\n",
       "      <td>45</td>\n",
       "      <td>0</td>\n",
       "      <td>9</td>\n",
       "      <td>...</td>\n",
       "      <td>35</td>\n",
       "      <td>survive</td>\n",
       "      <td>survive</td>\n",
       "      <td>NaN</td>\n",
       "      <td>Success</td>\n",
       "      <td>0</td>\n",
       "      <td>1</td>\n",
       "      <td>True</td>\n",
       "      <td>True</td>\n",
       "      <td>&gt;30</td>\n",
       "    </tr>\n",
       "    <tr>\n",
       "      <th>4</th>\n",
       "      <td>10109085</td>\n",
       "      <td>37504676</td>\n",
       "      <td>69</td>\n",
       "      <td>M</td>\n",
       "      <td>WHITE</td>\n",
       "      <td>Trauma SICU (TSICU)</td>\n",
       "      <td>SURGICAL SAME DAY ADMISSION</td>\n",
       "      <td>39</td>\n",
       "      <td>0</td>\n",
       "      <td>9</td>\n",
       "      <td>...</td>\n",
       "      <td>28</td>\n",
       "      <td>survive</td>\n",
       "      <td>survive</td>\n",
       "      <td>NaN</td>\n",
       "      <td>Success</td>\n",
       "      <td>0</td>\n",
       "      <td>5</td>\n",
       "      <td>True</td>\n",
       "      <td>True</td>\n",
       "      <td>25-29.9</td>\n",
       "    </tr>\n",
       "  </tbody>\n",
       "</table>\n",
       "<p>5 rows × 22 columns</p>\n",
       "</div>"
      ],
      "text/plain": [
       "   subject_id   stay_id  age gender ethnicity  \\\n",
       "0    10025612  32587226   83      M     WHITE   \n",
       "1    10026161  39625056   79      M     WHITE   \n",
       "2    10034317  36228864   73      M     WHITE   \n",
       "3    10062020  35323579   66      F     WHITE   \n",
       "4    10109085  37504676   69      M     WHITE   \n",
       "\n",
       "                                     first_careunit  \\\n",
       "0               Surgical Intensive Care Unit (SICU)   \n",
       "1  Medical/Surgical Intensive Care Unit (MICU/SICU)   \n",
       "2                               Trauma SICU (TSICU)   \n",
       "3                               Trauma SICU (TSICU)   \n",
       "4                               Trauma SICU (TSICU)   \n",
       "\n",
       "                admission_type  sapsii  sapsii_prob  cci  ...  bmi  mortality  \\\n",
       "0  SURGICAL SAME DAY ADMISSION      45            0    6  ...   27    survive   \n",
       "1  SURGICAL SAME DAY ADMISSION      65            1    9  ...   28    survive   \n",
       "2  SURGICAL SAME DAY ADMISSION      56            1    9  ...   27    survive   \n",
       "3  SURGICAL SAME DAY ADMISSION      45            0    9  ...   35    survive   \n",
       "4  SURGICAL SAME DAY ADMISSION      39            0    9  ...   28    survive   \n",
       "\n",
       "   day_28_mortality mortality_duration day_28_extubation  vent_duration  \\\n",
       "0           survive                NaN           Success              0   \n",
       "1           survive                NaN           Success              4   \n",
       "2           survive                NaN           Success              0   \n",
       "3           survive                NaN           Success              0   \n",
       "4           survive                NaN           Success              0   \n",
       "\n",
       "  los_icu  day_14_extubation  day_14_mortality  bmi_range  \n",
       "0       5               True              True    25-29.9  \n",
       "1       4               True              True    25-29.9  \n",
       "2       3               True              True    25-29.9  \n",
       "3       1               True              True        >30  \n",
       "4       5               True              True    25-29.9  \n",
       "\n",
       "[5 rows x 22 columns]"
      ]
     },
     "execution_count": 33,
     "metadata": {},
     "output_type": "execute_result"
    }
   ],
   "source": [
    "df_clean.head()"
   ]
  },
  {
   "cell_type": "markdown",
   "metadata": {},
   "source": [
    "### Divide data according to gender"
   ]
  },
  {
   "cell_type": "code",
   "execution_count": 35,
   "metadata": {},
   "outputs": [
    {
     "name": "stdout",
     "output_type": "stream",
     "text": [
      "     subject_id   stay_id  age gender               ethnicity  \\\n",
      "0      10025612  32587226   83      M                   WHITE   \n",
      "1      10026161  39625056   79      M                   WHITE   \n",
      "2      10034317  36228864   73      M                   WHITE   \n",
      "4      10109085  37504676   69      M                   WHITE   \n",
      "9      10135720  33352159   61      M                   ASIAN   \n",
      "..          ...       ...  ...    ...                     ...   \n",
      "831    19777866  38405028   71      M  BLACK/AFRICAN AMERICAN   \n",
      "838    19848285  36670214   54      M                   WHITE   \n",
      "843    19933276  37624381   62      M                   WHITE   \n",
      "844    19940062  30415929   50      M         HISPANIC/LATINO   \n",
      "848    19999442  32336619   44      M                   WHITE   \n",
      "\n",
      "                                       first_careunit  \\\n",
      "0                 Surgical Intensive Care Unit (SICU)   \n",
      "1    Medical/Surgical Intensive Care Unit (MICU/SICU)   \n",
      "2                                 Trauma SICU (TSICU)   \n",
      "4                                 Trauma SICU (TSICU)   \n",
      "9                                 Trauma SICU (TSICU)   \n",
      "..                                                ...   \n",
      "831  Medical/Surgical Intensive Care Unit (MICU/SICU)   \n",
      "838               Surgical Intensive Care Unit (SICU)   \n",
      "843  Medical/Surgical Intensive Care Unit (MICU/SICU)   \n",
      "844   Neuro Surgical Intensive Care Unit (Neuro SICU)   \n",
      "848               Surgical Intensive Care Unit (SICU)   \n",
      "\n",
      "                  admission_type  sapsii  sapsii_prob  cci  ...  bmi  \\\n",
      "0    SURGICAL SAME DAY ADMISSION      45            0    6  ...   27   \n",
      "1    SURGICAL SAME DAY ADMISSION      65            1    9  ...   28   \n",
      "2    SURGICAL SAME DAY ADMISSION      56            1    9  ...   27   \n",
      "4    SURGICAL SAME DAY ADMISSION      39            0    9  ...   28   \n",
      "9    SURGICAL SAME DAY ADMISSION      36            0    8  ...   33   \n",
      "..                           ...     ...          ...  ...  ...  ...   \n",
      "831                     ELECTIVE      45            0   10  ...   15   \n",
      "838  SURGICAL SAME DAY ADMISSION      34            0    7  ...   30   \n",
      "843  SURGICAL SAME DAY ADMISSION      25            0    6  ...   36   \n",
      "844  SURGICAL SAME DAY ADMISSION      31            0    2  ...   25   \n",
      "848                     ELECTIVE      14            0    5  ...   29   \n",
      "\n",
      "     mortality  day_28_mortality mortality_duration day_28_extubation  \\\n",
      "0      survive           survive                NaN           Success   \n",
      "1      survive           survive                NaN           Success   \n",
      "2      survive           survive                NaN           Success   \n",
      "4      survive           survive                NaN           Success   \n",
      "9      survive           survive                NaN           Success   \n",
      "..         ...               ...                ...               ...   \n",
      "831    survive           survive                NaN           Success   \n",
      "838    survive           survive                NaN           Success   \n",
      "843    survive           survive                NaN           Success   \n",
      "844      death             death                6.0              Fail   \n",
      "848    survive           survive                NaN           Success   \n",
      "\n",
      "     vent_duration los_icu  day_14_extubation  day_14_mortality  bmi_range  \n",
      "0                0       5               True              True    25-29.9  \n",
      "1                4       4               True              True    25-29.9  \n",
      "2                0       3               True              True    25-29.9  \n",
      "4                0       5               True              True    25-29.9  \n",
      "9                0       4               True              True        >30  \n",
      "..             ...     ...                ...               ...        ...  \n",
      "831              1       2               True              True        <18  \n",
      "838              0       3               True              True       None  \n",
      "843              4       6               True              True        >30  \n",
      "844              6       3              False             False    25-29.9  \n",
      "848              1       7               True              True    25-29.9  \n",
      "\n",
      "[429 rows x 22 columns]\n"
     ]
    }
   ],
   "source": [
    "# For male\n",
    "df_male = df_clean[df_clean['gender'] == 'M']\n",
    "print (df_male)"
   ]
  },
  {
   "cell_type": "code",
   "execution_count": 36,
   "metadata": {
    "scrolled": true
   },
   "outputs": [
    {
     "name": "stdout",
     "output_type": "stream",
     "text": [
      "     subject_id   stay_id  age gender        ethnicity  \\\n",
      "3      10062020  35323579   66      F            WHITE   \n",
      "5      10109956  37631738   62      F              NaN   \n",
      "6      10115024  39765878   52      F              NaN   \n",
      "7      10117230  30685878   60      F              NaN   \n",
      "8      10119001  38415671   88      F            WHITE   \n",
      "..          ...       ...  ...    ...              ...   \n",
      "841    19895627  33759673   54      F  HISPANIC/LATINO   \n",
      "842    19916747  39805150   68      F            WHITE   \n",
      "845    19990427  34058245   67      F            WHITE   \n",
      "846    19991135  36533454   60      F            WHITE   \n",
      "847    19993726  31439824   53      F            WHITE   \n",
      "\n",
      "                                       first_careunit  \\\n",
      "3                                 Trauma SICU (TSICU)   \n",
      "5    Medical/Surgical Intensive Care Unit (MICU/SICU)   \n",
      "6                 Surgical Intensive Care Unit (SICU)   \n",
      "7                                 Trauma SICU (TSICU)   \n",
      "8    Medical/Surgical Intensive Care Unit (MICU/SICU)   \n",
      "..                                                ...   \n",
      "841               Surgical Intensive Care Unit (SICU)   \n",
      "842               Surgical Intensive Care Unit (SICU)   \n",
      "845                               Trauma SICU (TSICU)   \n",
      "846                               Trauma SICU (TSICU)   \n",
      "847               Surgical Intensive Care Unit (SICU)   \n",
      "\n",
      "                  admission_type  sapsii  sapsii_prob  cci  ...  bmi  \\\n",
      "3    SURGICAL SAME DAY ADMISSION      45            0    9  ...   35   \n",
      "5    SURGICAL SAME DAY ADMISSION      44            0   10  ...   34   \n",
      "6    SURGICAL SAME DAY ADMISSION      15            0    3  ...   31   \n",
      "7    SURGICAL SAME DAY ADMISSION      39            0    3  ...   23   \n",
      "8    SURGICAL SAME DAY ADMISSION      47            0   11  ...   26   \n",
      "..                           ...     ...          ...  ...  ...  ...   \n",
      "841                     ELECTIVE      20            0    5  ...   31   \n",
      "842  SURGICAL SAME DAY ADMISSION      25            0    4  ...   34   \n",
      "845  SURGICAL SAME DAY ADMISSION      58            1    3  ...   37   \n",
      "846                     ELECTIVE      14            0    4  ...   27   \n",
      "847  SURGICAL SAME DAY ADMISSION      24            0    4  ...   20   \n",
      "\n",
      "     mortality  day_28_mortality mortality_duration day_28_extubation  \\\n",
      "3      survive           survive                NaN           Success   \n",
      "5      survive           survive                NaN           Success   \n",
      "6      survive           survive                NaN           Success   \n",
      "7      survive           survive                NaN           Success   \n",
      "8      survive           survive                NaN           Success   \n",
      "..         ...               ...                ...               ...   \n",
      "841    survive           survive                NaN           Success   \n",
      "842    survive           survive                NaN           Success   \n",
      "845      death             death               11.0              Fail   \n",
      "846    survive           survive                NaN           Success   \n",
      "847    survive           survive                NaN           Success   \n",
      "\n",
      "     vent_duration los_icu  day_14_extubation  day_14_mortality  bmi_range  \n",
      "3                0       1               True              True        >30  \n",
      "5               13      14               True              True        >30  \n",
      "6                0       1               True              True        >30  \n",
      "7                1       4               True              True    18-29.9  \n",
      "8                1       1               True              True    25-29.9  \n",
      "..             ...     ...                ...               ...        ...  \n",
      "841              1       7               True              True        >30  \n",
      "842              2       5               True              True        >30  \n",
      "845             11      10              False             False        >30  \n",
      "846              1       3               True              True    25-29.9  \n",
      "847              1       9               True              True    18-29.9  \n",
      "\n",
      "[387 rows x 22 columns]\n"
     ]
    }
   ],
   "source": [
    "# For female\n",
    "df_female = df_clean[df_clean['gender'] == 'F']\n",
    "print (df_female)"
   ]
  },
  {
   "cell_type": "markdown",
   "metadata": {},
   "source": [
    "### Bivariate Exploration:"
   ]
  },
  {
   "cell_type": "markdown",
   "metadata": {},
   "source": [
    "To start off with, I want to look at the pairwise correlations present between features in the data."
   ]
  },
  {
   "cell_type": "code",
   "execution_count": 38,
   "metadata": {},
   "outputs": [
    {
     "data": {
      "image/png": "[encoded data removed]",
      "text/plain": [
       "<Figure size 576x360 with 2 Axes>"
      ]
     },
     "metadata": {},
     "output_type": "display_data"
    }
   ],
   "source": [
    "# correlation plot for the whole data\n",
    "plt.figure(figsize = [8, 5])\n",
    "sns.heatmap(df_clean[numeric_vars].corr(), annot = True, fmt = '.3f',\n",
    "           cmap = 'vlag_r', center = 0)\n",
    "plt.show()"
   ]
  },
  {
   "cell_type": "code",
   "execution_count": 39,
   "metadata": {
    "scrolled": true
   },
   "outputs": [
    {
     "data": {
      "image/png": "[encoded data removed]",
      "text/plain": [
       "<Figure size 576x360 with 2 Axes>"
      ]
     },
     "metadata": {},
     "output_type": "display_data"
    }
   ],
   "source": [
    "# correlation plot for male data\n",
    "plt.figure(figsize = [8, 5])\n",
    "sns.heatmap(df_male[numeric_vars].corr(), annot = True, fmt = '.3f',\n",
    "           cmap = 'vlag_r', center = 0)\n",
    "plt.show()"
   ]
  },
  {
   "cell_type": "code",
   "execution_count": 40,
   "metadata": {},
   "outputs": [
    {
     "data": {
      "image/png": "[encoded data removed]",
      "text/plain": [
       "<Figure size 576x360 with 2 Axes>"
      ]
     },
     "metadata": {},
     "output_type": "display_data"
    }
   ],
   "source": [
    "# correlation plot for female data\n",
    "plt.figure(figsize = [8, 5])\n",
    "sns.heatmap(df_female[numeric_vars].corr(), annot = True, fmt = '.3f',\n",
    "           cmap = 'vlag_r', center = 0)\n",
    "plt.show()"
   ]
  },
  {
   "cell_type": "markdown",
   "metadata": {},
   "source": [
    "when we look at the correlation plot we notice that their is strong correlation between(in descending order):\n",
    "* LOS and ventilation duration\n",
    "* CCI score and age\n",
    "* SAPSII score and age\n",
    "* SAPSII score and CCI score\n",
    "we also notice that BMI is not correlated enough to any other variable"
   ]
  },
  {
   "cell_type": "markdown",
   "metadata": {},
   "source": [
    "<a id='analysis'></a>\n",
    "## Data Analysis\n",
    "> here we have three confounders(SAP II  score, Age, CCI score) and one effect modifier (gender), for that we will use  regression models and stratify the analysis for gender.\n",
    "\n",
    "### we will try to address the following relationships with BMI  :"
   ]
  },
  {
   "cell_type": "markdown",
   "metadata": {},
   "source": [
    "- [1.BMI relationship with rate of successful extubation before 14 days](#extubation_14)\n",
    "- [2.BMI relationship with rate of successful extubation before 28 days](#extubation_28)\n",
    "- [3.BMI relationship with ventilation duration](#ventilation)\n",
    "- [4.BMI relationship with ICU stay](#ICU)"
   ]
  },
  {
   "cell_type": "markdown",
   "metadata": {},
   "source": [
    "<a id='extubation_14'></a>\n",
    "## 1.BMI relationship with rate of successful extubation before 14 days, 28 days and mortality"
   ]
  },
  {
   "cell_type": "code",
   "execution_count": 41,
   "metadata": {},
   "outputs": [
    {
     "data": {
      "text/plain": [
       "True     796\n",
       "False     20\n",
       "Name: day_14_extubation, dtype: int64"
      ]
     },
     "execution_count": 41,
     "metadata": {},
     "output_type": "execute_result"
    }
   ],
   "source": [
    "df_clean['day_14_extubation'].value_counts()"
   ]
  },
  {
   "cell_type": "code",
   "execution_count": 42,
   "metadata": {},
   "outputs": [
    {
     "data": {
      "text/plain": [
       "survive    799\n",
       "death       17\n",
       "Name: day_28_mortality, dtype: int64"
      ]
     },
     "execution_count": 42,
     "metadata": {},
     "output_type": "execute_result"
    }
   ],
   "source": [
    "df_clean['day_28_mortality'].value_counts()"
   ]
  },
  {
   "cell_type": "code",
   "execution_count": 43,
   "metadata": {},
   "outputs": [
    {
     "data": {
      "text/plain": [
       "Success    799\n",
       "Fail        17\n",
       "Name: day_28_extubation, dtype: int64"
      ]
     },
     "execution_count": 43,
     "metadata": {},
     "output_type": "execute_result"
    }
   ],
   "source": [
    "df_clean['day_28_extubation'].value_counts()"
   ]
  },
  {
   "cell_type": "code",
   "execution_count": 44,
   "metadata": {},
   "outputs": [
    {
     "data": {
      "text/plain": [
       "<matplotlib.axes._subplots.AxesSubplot at 0x1b5fc1bd460>"
      ]
     },
     "execution_count": 44,
     "metadata": {},
     "output_type": "execute_result"
    },
    {
     "data": {
      "image/png": "[encoded data removed]",
      "text/plain": [
       "<Figure size 432x288 with 1 Axes>"
      ]
     },
     "metadata": {},
     "output_type": "display_data"
    }
   ],
   "source": [
    "sns.countplot(data = df_clean, x = 'bmi_range', hue = 'day_14_extubation')"
   ]
  },
  {
   "cell_type": "markdown",
   "metadata": {},
   "source": [
    "as we notice from the plot that this sample of patients almost all of them survive or exceed extubation before day 14 (only 20 patient didn't survive or their extubation failed) , so we can not determine exact correlation between the BMI and successful extubation before 14 days, also can not take equal samples from both classes as we will end with small and unrepresentative samples, and the same applies to extubation before 28 days and mortality."
   ]
  },
  {
   "cell_type": "markdown",
   "metadata": {},
   "source": [
    "<a id='ventilation'></a>\n",
    "## 2.BMI relationship with ventilation duration"
   ]
  },
  {
   "cell_type": "markdown",
   "metadata": {},
   "source": [
    "### BMI as range:"
   ]
  },
  {
   "cell_type": "code",
   "execution_count": 79,
   "metadata": {},
   "outputs": [
    {
     "data": {
      "text/plain": [
       "<matplotlib.axes._subplots.AxesSubplot at 0x1b5fad8a580>"
      ]
     },
     "execution_count": 79,
     "metadata": {},
     "output_type": "execute_result"
    },
    {
     "data": {
      "image/png": "[encoded data removed]",
      "text/plain": [
       "<Figure size 648x432 with 1 Axes>"
      ]
     },
     "metadata": {},
     "output_type": "display_data"
    }
   ],
   "source": [
    "bmi_ranges_vent_duration = df_clean.groupby('bmi_range')['vent_duration'].value_counts(normalize=True).mul(100).round(1)\n",
    "bmi_ranges_vent_duration.unstack().plot.bar()"
   ]
  },
  {
   "cell_type": "markdown",
   "metadata": {},
   "source": [
    ">As we see the dominant duration of ventilation in all ranges is from (0-1) days only"
   ]
  },
  {
   "cell_type": "code",
   "execution_count": 45,
   "metadata": {},
   "outputs": [
    {
     "data": {
      "image/png": "[encoded data removed]",
      "text/plain": [
       "<Figure size 648x432 with 1 Axes>"
      ]
     },
     "metadata": {},
     "output_type": "display_data"
    }
   ],
   "source": [
    "# A regplot accepts x and y in a variety of formats. For the lmplot the data need to be strings in the so called 'long-form'.\n",
    "#plt.figure(figsize = (10, 8))\n",
    "sns.set(rc = {'figure.figsize': (9,6)}) # control the size of the figure with the rc dictionary\n",
    "sns.regplot(x = \"bmi\", \n",
    "            y = \"vent_duration\", \n",
    "            data = df_clean, \n",
    "            scatter_kws = {'color': 'k'}, # color for the points\n",
    "            line_kws = {'color': 'red'}) # color for the regression line\n",
    "plt.xlabel(\"BMI\")\n",
    "plt.ylabel(\"Ventilation duration in (days)\")\n",
    "plt.title(\"Effect of BMI on Ventilation duration\", fontsize = 14, weight = \"bold\")\n",
    "plt.show()"
   ]
  },
  {
   "cell_type": "code",
   "execution_count": 46,
   "metadata": {},
   "outputs": [
    {
     "data": {
      "image/png": "[encoded data removed]",
      "text/plain": [
       "<Figure size 648x432 with 1 Axes>"
      ]
     },
     "metadata": {},
     "output_type": "display_data"
    }
   ],
   "source": [
    "# A regplot accepts x and y in a variety of formats. For the lmplot the data need to be strings in the so called 'long-form'.\n",
    "#plt.figure(figsize = (10, 8))\n",
    "sns.set(rc = {'figure.figsize': (9,6)}) # control the size of the figure with the rc dictionary\n",
    "sns.regplot(x = \"bmi\", \n",
    "            y = \"vent_duration\", \n",
    "            data = df_male, \n",
    "            scatter_kws = {'color': 'k'}, # color for the points\n",
    "            line_kws = {'color': 'red'}) # color for the regression line\n",
    "plt.xlabel(\"BMI\")\n",
    "plt.ylabel(\"Ventilation duration in (days)\")\n",
    "plt.title(\"Effect of BMI on Ventilation duration in males\", fontsize = 14, weight = \"bold\")\n",
    "plt.show()"
   ]
  },
  {
   "cell_type": "code",
   "execution_count": 47,
   "metadata": {},
   "outputs": [
    {
     "data": {
      "image/png": "[encoded data removed]",
      "text/plain": [
       "<Figure size 648x432 with 1 Axes>"
      ]
     },
     "metadata": {},
     "output_type": "display_data"
    }
   ],
   "source": [
    "# A regplot accepts x and y in a variety of formats. For the lmplot the data need to be strings in the so called 'long-form'.\n",
    "#plt.figure(figsize = (10, 8))\n",
    "sns.set(rc = {'figure.figsize': (9,6)}) # control the size of the figure with the rc dictionary\n",
    "sns.regplot(x = \"bmi\", \n",
    "            y = \"vent_duration\", \n",
    "            data = df_female, \n",
    "            scatter_kws = {'color': 'k'}, # color for the points\n",
    "            line_kws = {'color': 'red'}) # color for the regression line\n",
    "plt.xlabel(\"BMI\")\n",
    "plt.ylabel(\"Ventilation duration in (days)\")\n",
    "plt.title(\"Effect of BMI on Ventilation duration in females\", fontsize = 14, weight = \"bold\")\n",
    "plt.show()"
   ]
  },
  {
   "cell_type": "markdown",
   "metadata": {},
   "source": [
    "There is weak correlation between BMI and ventilation duration and for further confirmation we will use sprearman's correlation"
   ]
  },
  {
   "cell_type": "code",
   "execution_count": 48,
   "metadata": {},
   "outputs": [
    {
     "name": "stdout",
     "output_type": "stream",
     "text": [
      "Spearmans correlation coefficient: 0.047\n",
      "Samples are uncorrelated (fail to reject H0) p=0.182\n"
     ]
    }
   ],
   "source": [
    "# calculate spearman's correlation\n",
    "from scipy.stats import spearmanr\n",
    "data1 = df_clean['vent_duration']\n",
    "data2 = df_clean['bmi']\n",
    "coef, p = spearmanr(data1, data2)\n",
    "print('Spearmans correlation coefficient: %.3f' % coef)\n",
    "# interpret the significance\n",
    "alpha = 0.05\n",
    "if p > alpha:\n",
    "\tprint('Samples are uncorrelated (fail to reject H0) p=%.3f' % p)\n",
    "else:\n",
    "\tprint('Samples are correlated (reject H0) p=%.3f' % p)\n"
   ]
  },
  {
   "cell_type": "markdown",
   "metadata": {},
   "source": [
    ">The spearman's correlation confirms that the IBM and ventilation duration are not correlated , still because gender is effect modifier will repeat the calculations of spearman's correlation using gender separated data."
   ]
  },
  {
   "cell_type": "code",
   "execution_count": 49,
   "metadata": {},
   "outputs": [
    {
     "name": "stdout",
     "output_type": "stream",
     "text": [
      "Spearmans correlation coefficient: 0.074\n",
      "Samples are uncorrelated (fail to reject H0) p=0.127\n"
     ]
    }
   ],
   "source": [
    "# calculate spearman's correlation For male data\n",
    "from scipy.stats import spearmanr\n",
    "data1 = df_male['vent_duration']\n",
    "data2 = df_male['bmi']\n",
    "coef, p = spearmanr(data1, data2)\n",
    "print('Spearmans correlation coefficient: %.3f' % coef)\n",
    "# interpret the significance\n",
    "alpha = 0.05\n",
    "if p > alpha:\n",
    "\tprint('Samples are uncorrelated (fail to reject H0) p=%.3f' % p)\n",
    "else:\n",
    "\tprint('Samples are correlated (reject H0) p=%.3f' % p)"
   ]
  },
  {
   "cell_type": "code",
   "execution_count": 50,
   "metadata": {},
   "outputs": [
    {
     "name": "stdout",
     "output_type": "stream",
     "text": [
      "Spearmans correlation coefficient: 0.026\n",
      "Samples are uncorrelated (fail to reject H0) p=0.613\n"
     ]
    }
   ],
   "source": [
    "# calculate spearman's correlation For female data\n",
    "from scipy.stats import spearmanr\n",
    "data1 = df_female['vent_duration']\n",
    "data2 = df_female['bmi']\n",
    "coef, p = spearmanr(data1, data2)\n",
    "print('Spearmans correlation coefficient: %.3f' % coef)\n",
    "# interpret the significance\n",
    "alpha = 0.05\n",
    "if p > alpha:\n",
    "\tprint('Samples are uncorrelated (fail to reject H0) p=%.3f' % p)\n",
    "else:\n",
    "\tprint('Samples are correlated (reject H0) p=%.3f' % p)"
   ]
  },
  {
   "cell_type": "code",
   "execution_count": 61,
   "metadata": {},
   "outputs": [
    {
     "name": "stderr",
     "output_type": "stream",
     "text": [
      "<ipython-input-61-1e4d9afe0fdb>:3: SettingWithCopyWarning: \n",
      "A value is trying to be set on a copy of a slice from a DataFrame.\n",
      "Try using .loc[row_indexer,col_indexer] = value instead\n",
      "\n",
      "See the caveats in the documentation: https://pandas.pydata.org/pandas-docs/stable/user_guide/indexing.html#returning-a-view-versus-a-copy\n",
      "  df_male['intercept'] = 1\n"
     ]
    },
    {
     "data": {
      "text/html": [
       "<table class=\"simpletable\">\n",
       "<caption>OLS Regression Results</caption>\n",
       "<tr>\n",
       "  <th>Dep. Variable:</th>      <td>vent_duration</td>  <th>  R-squared:         </th> <td>   0.066</td>\n",
       "</tr>\n",
       "<tr>\n",
       "  <th>Model:</th>                   <td>OLS</td>       <th>  Adj. R-squared:    </th> <td>   0.057</td>\n",
       "</tr>\n",
       "<tr>\n",
       "  <th>Method:</th>             <td>Least Squares</td>  <th>  F-statistic:       </th> <td>   7.525</td>\n",
       "</tr>\n",
       "<tr>\n",
       "  <th>Date:</th>             <td>Wed, 20 Apr 2022</td> <th>  Prob (F-statistic):</th> <td>7.29e-06</td>\n",
       "</tr>\n",
       "<tr>\n",
       "  <th>Time:</th>                 <td>13:04:33</td>     <th>  Log-Likelihood:    </th> <td> -989.05</td>\n",
       "</tr>\n",
       "<tr>\n",
       "  <th>No. Observations:</th>      <td>   429</td>      <th>  AIC:               </th> <td>   1988.</td>\n",
       "</tr>\n",
       "<tr>\n",
       "  <th>Df Residuals:</th>          <td>   424</td>      <th>  BIC:               </th> <td>   2008.</td>\n",
       "</tr>\n",
       "<tr>\n",
       "  <th>Df Model:</th>              <td>     4</td>      <th>                     </th>     <td> </td>   \n",
       "</tr>\n",
       "<tr>\n",
       "  <th>Covariance Type:</th>      <td>nonrobust</td>    <th>                     </th>     <td> </td>   \n",
       "</tr>\n",
       "</table>\n",
       "<table class=\"simpletable\">\n",
       "<tr>\n",
       "      <td></td>         <th>coef</th>     <th>std err</th>      <th>t</th>      <th>P>|t|</th>  <th>[0.025</th>    <th>0.975]</th>  \n",
       "</tr>\n",
       "<tr>\n",
       "  <th>intercept</th> <td>   -0.3477</td> <td>    0.819</td> <td>   -0.424</td> <td> 0.672</td> <td>   -1.958</td> <td>    1.263</td>\n",
       "</tr>\n",
       "<tr>\n",
       "  <th>bmi</th>       <td>    0.0287</td> <td>    0.018</td> <td>    1.636</td> <td> 0.103</td> <td>   -0.006</td> <td>    0.063</td>\n",
       "</tr>\n",
       "<tr>\n",
       "  <th>sapsii</th>    <td>    0.0573</td> <td>    0.011</td> <td>    5.062</td> <td> 0.000</td> <td>    0.035</td> <td>    0.080</td>\n",
       "</tr>\n",
       "<tr>\n",
       "  <th>age</th>       <td>   -0.0060</td> <td>    0.012</td> <td>   -0.519</td> <td> 0.604</td> <td>   -0.029</td> <td>    0.017</td>\n",
       "</tr>\n",
       "<tr>\n",
       "  <th>cci</th>       <td>   -0.0798</td> <td>    0.049</td> <td>   -1.614</td> <td> 0.107</td> <td>   -0.177</td> <td>    0.017</td>\n",
       "</tr>\n",
       "</table>\n",
       "<table class=\"simpletable\">\n",
       "<tr>\n",
       "  <th>Omnibus:</th>       <td>239.744</td> <th>  Durbin-Watson:     </th> <td>   1.896</td> \n",
       "</tr>\n",
       "<tr>\n",
       "  <th>Prob(Omnibus):</th> <td> 0.000</td>  <th>  Jarque-Bera (JB):  </th> <td>1300.023</td> \n",
       "</tr>\n",
       "<tr>\n",
       "  <th>Skew:</th>          <td> 2.496</td>  <th>  Prob(JB):          </th> <td>5.05e-283</td>\n",
       "</tr>\n",
       "<tr>\n",
       "  <th>Kurtosis:</th>      <td> 9.914</td>  <th>  Cond. No.          </th> <td>    562.</td> \n",
       "</tr>\n",
       "</table><br/><br/>Warnings:<br/>[1] Standard Errors assume that the covariance matrix of the errors is correctly specified."
      ],
      "text/plain": [
       "<class 'statsmodels.iolib.summary.Summary'>\n",
       "\"\"\"\n",
       "                            OLS Regression Results                            \n",
       "==============================================================================\n",
       "Dep. Variable:          vent_duration   R-squared:                       0.066\n",
       "Model:                            OLS   Adj. R-squared:                  0.057\n",
       "Method:                 Least Squares   F-statistic:                     7.525\n",
       "Date:                Wed, 20 Apr 2022   Prob (F-statistic):           7.29e-06\n",
       "Time:                        13:04:33   Log-Likelihood:                -989.05\n",
       "No. Observations:                 429   AIC:                             1988.\n",
       "Df Residuals:                     424   BIC:                             2008.\n",
       "Df Model:                           4                                         \n",
       "Covariance Type:            nonrobust                                         \n",
       "==============================================================================\n",
       "                 coef    std err          t      P>|t|      [0.025      0.975]\n",
       "------------------------------------------------------------------------------\n",
       "intercept     -0.3477      0.819     -0.424      0.672      -1.958       1.263\n",
       "bmi            0.0287      0.018      1.636      0.103      -0.006       0.063\n",
       "sapsii         0.0573      0.011      5.062      0.000       0.035       0.080\n",
       "age           -0.0060      0.012     -0.519      0.604      -0.029       0.017\n",
       "cci           -0.0798      0.049     -1.614      0.107      -0.177       0.017\n",
       "==============================================================================\n",
       "Omnibus:                      239.744   Durbin-Watson:                   1.896\n",
       "Prob(Omnibus):                  0.000   Jarque-Bera (JB):             1300.023\n",
       "Skew:                           2.496   Prob(JB):                    5.05e-283\n",
       "Kurtosis:                       9.914   Cond. No.                         562.\n",
       "==============================================================================\n",
       "\n",
       "Warnings:\n",
       "[1] Standard Errors assume that the covariance matrix of the errors is correctly specified.\n",
       "\"\"\""
      ]
     },
     "execution_count": 61,
     "metadata": {},
     "output_type": "execute_result"
    }
   ],
   "source": [
    "### Multiple linear regression for males vent_duration\n",
    "import statsmodels.api as sms;\n",
    "df_male['intercept'] = 1\n",
    "mlr1 = sms.OLS(df_male['vent_duration'], df_male[['intercept', 'bmi', 'sapsii', 'age','cci' ]])\n",
    "results_mlr1 = mlr1.fit()\n",
    "results_mlr1.summary()"
   ]
  },
  {
   "cell_type": "code",
   "execution_count": 62,
   "metadata": {},
   "outputs": [
    {
     "name": "stderr",
     "output_type": "stream",
     "text": [
      "<ipython-input-62-e0f4a08ea988>:3: SettingWithCopyWarning: \n",
      "A value is trying to be set on a copy of a slice from a DataFrame.\n",
      "Try using .loc[row_indexer,col_indexer] = value instead\n",
      "\n",
      "See the caveats in the documentation: https://pandas.pydata.org/pandas-docs/stable/user_guide/indexing.html#returning-a-view-versus-a-copy\n",
      "  df_female['intercept'] = 1\n"
     ]
    },
    {
     "data": {
      "text/html": [
       "<table class=\"simpletable\">\n",
       "<caption>OLS Regression Results</caption>\n",
       "<tr>\n",
       "  <th>Dep. Variable:</th>      <td>vent_duration</td>  <th>  R-squared:         </th> <td>   0.066</td>\n",
       "</tr>\n",
       "<tr>\n",
       "  <th>Model:</th>                   <td>OLS</td>       <th>  Adj. R-squared:    </th> <td>   0.057</td>\n",
       "</tr>\n",
       "<tr>\n",
       "  <th>Method:</th>             <td>Least Squares</td>  <th>  F-statistic:       </th> <td>   7.525</td>\n",
       "</tr>\n",
       "<tr>\n",
       "  <th>Date:</th>             <td>Wed, 20 Apr 2022</td> <th>  Prob (F-statistic):</th> <td>7.29e-06</td>\n",
       "</tr>\n",
       "<tr>\n",
       "  <th>Time:</th>                 <td>13:05:26</td>     <th>  Log-Likelihood:    </th> <td> -989.05</td>\n",
       "</tr>\n",
       "<tr>\n",
       "  <th>No. Observations:</th>      <td>   429</td>      <th>  AIC:               </th> <td>   1988.</td>\n",
       "</tr>\n",
       "<tr>\n",
       "  <th>Df Residuals:</th>          <td>   424</td>      <th>  BIC:               </th> <td>   2008.</td>\n",
       "</tr>\n",
       "<tr>\n",
       "  <th>Df Model:</th>              <td>     4</td>      <th>                     </th>     <td> </td>   \n",
       "</tr>\n",
       "<tr>\n",
       "  <th>Covariance Type:</th>      <td>nonrobust</td>    <th>                     </th>     <td> </td>   \n",
       "</tr>\n",
       "</table>\n",
       "<table class=\"simpletable\">\n",
       "<tr>\n",
       "      <td></td>         <th>coef</th>     <th>std err</th>      <th>t</th>      <th>P>|t|</th>  <th>[0.025</th>    <th>0.975]</th>  \n",
       "</tr>\n",
       "<tr>\n",
       "  <th>intercept</th> <td>   -0.3477</td> <td>    0.819</td> <td>   -0.424</td> <td> 0.672</td> <td>   -1.958</td> <td>    1.263</td>\n",
       "</tr>\n",
       "<tr>\n",
       "  <th>bmi</th>       <td>    0.0287</td> <td>    0.018</td> <td>    1.636</td> <td> 0.103</td> <td>   -0.006</td> <td>    0.063</td>\n",
       "</tr>\n",
       "<tr>\n",
       "  <th>sapsii</th>    <td>    0.0573</td> <td>    0.011</td> <td>    5.062</td> <td> 0.000</td> <td>    0.035</td> <td>    0.080</td>\n",
       "</tr>\n",
       "<tr>\n",
       "  <th>age</th>       <td>   -0.0060</td> <td>    0.012</td> <td>   -0.519</td> <td> 0.604</td> <td>   -0.029</td> <td>    0.017</td>\n",
       "</tr>\n",
       "<tr>\n",
       "  <th>cci</th>       <td>   -0.0798</td> <td>    0.049</td> <td>   -1.614</td> <td> 0.107</td> <td>   -0.177</td> <td>    0.017</td>\n",
       "</tr>\n",
       "</table>\n",
       "<table class=\"simpletable\">\n",
       "<tr>\n",
       "  <th>Omnibus:</th>       <td>239.744</td> <th>  Durbin-Watson:     </th> <td>   1.896</td> \n",
       "</tr>\n",
       "<tr>\n",
       "  <th>Prob(Omnibus):</th> <td> 0.000</td>  <th>  Jarque-Bera (JB):  </th> <td>1300.023</td> \n",
       "</tr>\n",
       "<tr>\n",
       "  <th>Skew:</th>          <td> 2.496</td>  <th>  Prob(JB):          </th> <td>5.05e-283</td>\n",
       "</tr>\n",
       "<tr>\n",
       "  <th>Kurtosis:</th>      <td> 9.914</td>  <th>  Cond. No.          </th> <td>    562.</td> \n",
       "</tr>\n",
       "</table><br/><br/>Warnings:<br/>[1] Standard Errors assume that the covariance matrix of the errors is correctly specified."
      ],
      "text/plain": [
       "<class 'statsmodels.iolib.summary.Summary'>\n",
       "\"\"\"\n",
       "                            OLS Regression Results                            \n",
       "==============================================================================\n",
       "Dep. Variable:          vent_duration   R-squared:                       0.066\n",
       "Model:                            OLS   Adj. R-squared:                  0.057\n",
       "Method:                 Least Squares   F-statistic:                     7.525\n",
       "Date:                Wed, 20 Apr 2022   Prob (F-statistic):           7.29e-06\n",
       "Time:                        13:05:26   Log-Likelihood:                -989.05\n",
       "No. Observations:                 429   AIC:                             1988.\n",
       "Df Residuals:                     424   BIC:                             2008.\n",
       "Df Model:                           4                                         \n",
       "Covariance Type:            nonrobust                                         \n",
       "==============================================================================\n",
       "                 coef    std err          t      P>|t|      [0.025      0.975]\n",
       "------------------------------------------------------------------------------\n",
       "intercept     -0.3477      0.819     -0.424      0.672      -1.958       1.263\n",
       "bmi            0.0287      0.018      1.636      0.103      -0.006       0.063\n",
       "sapsii         0.0573      0.011      5.062      0.000       0.035       0.080\n",
       "age           -0.0060      0.012     -0.519      0.604      -0.029       0.017\n",
       "cci           -0.0798      0.049     -1.614      0.107      -0.177       0.017\n",
       "==============================================================================\n",
       "Omnibus:                      239.744   Durbin-Watson:                   1.896\n",
       "Prob(Omnibus):                  0.000   Jarque-Bera (JB):             1300.023\n",
       "Skew:                           2.496   Prob(JB):                    5.05e-283\n",
       "Kurtosis:                       9.914   Cond. No.                         562.\n",
       "==============================================================================\n",
       "\n",
       "Warnings:\n",
       "[1] Standard Errors assume that the covariance matrix of the errors is correctly specified.\n",
       "\"\"\""
      ]
     },
     "execution_count": 62,
     "metadata": {},
     "output_type": "execute_result"
    }
   ],
   "source": [
    "### Multiple linear regression for females vent_duration\n",
    "import statsmodels.api as sms;\n",
    "df_female['intercept'] = 1\n",
    "mlr2 = sms.OLS(df_male['vent_duration'], df_male[['intercept', 'bmi', 'sapsii', 'age','cci' ]])\n",
    "results_mlr2 = mlr2.fit()\n",
    "results_mlr2.summary()"
   ]
  },
  {
   "cell_type": "markdown",
   "metadata": {},
   "source": [
    "and again it confirms that BMI is not correlated with ventilation duration"
   ]
  },
  {
   "cell_type": "markdown",
   "metadata": {},
   "source": [
    "<a id='ICU'></a>\n",
    "## 4.BMI relationship with ICU stay"
   ]
  },
  {
   "cell_type": "markdown",
   "metadata": {},
   "source": [
    "### BMI as ranges"
   ]
  },
  {
   "cell_type": "code",
   "execution_count": 80,
   "metadata": {},
   "outputs": [
    {
     "data": {
      "text/plain": [
       "<matplotlib.axes._subplots.AxesSubplot at 0x1b5fa985c70>"
      ]
     },
     "execution_count": 80,
     "metadata": {},
     "output_type": "execute_result"
    },
    {
     "data": {
      "image/png": "[encoded data removed]",
      "text/plain": [
       "<Figure size 648x432 with 1 Axes>"
      ]
     },
     "metadata": {},
     "output_type": "display_data"
    }
   ],
   "source": [
    "bmi_ranges_los_icu = df_clean.groupby('bmi_range')['los_icu'].value_counts(normalize=True).mul(100).round(1)\n",
    "bmi_ranges_los_icu.unstack().plot.bar()"
   ]
  },
  {
   "cell_type": "markdown",
   "metadata": {},
   "source": [
    ">As we see the dominant lenght of stay in all ranges is from (0-5) days only"
   ]
  },
  {
   "cell_type": "code",
   "execution_count": 51,
   "metadata": {},
   "outputs": [
    {
     "data": {
      "image/png": "[encoded data removed]",
      "text/plain": [
       "<Figure size 648x432 with 1 Axes>"
      ]
     },
     "metadata": {},
     "output_type": "display_data"
    }
   ],
   "source": [
    "# A regplot accepts x and y in a variety of formats. For the lmplot the data need to be strings in the so called 'long-form'.\n",
    "#plt.figure(figsize = (10, 8))\n",
    "sns.set(rc = {'figure.figsize': (9,6)}) # control the size of the figure with the rc dictionary\n",
    "sns.regplot(x = \"bmi\", \n",
    "            y = \"los_icu\", \n",
    "            data = df_clean, \n",
    "            scatter_kws = {'color': 'k'}, # color for the points\n",
    "            line_kws = {'color': 'red'}) # color for the regression line\n",
    "plt.xlabel(\"BMI\")\n",
    "plt.ylabel(\"Lenght of stay in ICU in (days)\")\n",
    "plt.title(\"Effect of BMI on Lenght of stay in ICU\", fontsize = 14, weight = \"bold\")\n",
    "plt.show()"
   ]
  },
  {
   "cell_type": "code",
   "execution_count": 52,
   "metadata": {},
   "outputs": [
    {
     "data": {
      "image/png": "[encoded data removed]",
      "text/plain": [
       "<Figure size 648x432 with 1 Axes>"
      ]
     },
     "metadata": {},
     "output_type": "display_data"
    }
   ],
   "source": [
    "# A regplot accepts x and y in a variety of formats. For the lmplot the data need to be strings in the so called 'long-form'.\n",
    "#plt.figure(figsize = (10, 8))\n",
    "sns.set(rc = {'figure.figsize': (9,6)}) # control the size of the figure with the rc dictionary\n",
    "sns.regplot(x = \"bmi\", \n",
    "            y = \"los_icu\", \n",
    "            data = df_male, \n",
    "            scatter_kws = {'color': 'k'}, # color for the points\n",
    "            line_kws = {'color': 'red'}) # color for the regression line\n",
    "plt.xlabel(\"BMI\")\n",
    "plt.ylabel(\"Lenght of stay in ICU in (days)\")\n",
    "plt.title(\"Effect of BMI on Lenght of stay in ICU for males\", fontsize = 14, weight = \"bold\")\n",
    "plt.show()"
   ]
  },
  {
   "cell_type": "code",
   "execution_count": 53,
   "metadata": {},
   "outputs": [
    {
     "data": {
      "image/png": "[encoded data removed]",
      "text/plain": [
       "<Figure size 648x432 with 1 Axes>"
      ]
     },
     "metadata": {},
     "output_type": "display_data"
    }
   ],
   "source": [
    "# A regplot accepts x and y in a variety of formats. For the lmplot the data need to be strings in the so called 'long-form'.\n",
    "#plt.figure(figsize = (10, 8))\n",
    "sns.set(rc = {'figure.figsize': (9,6)}) # control the size of the figure with the rc dictionary\n",
    "sns.regplot(x = \"bmi\", \n",
    "            y = \"los_icu\", \n",
    "            data = df_female, \n",
    "            scatter_kws = {'color': 'k'}, # color for the points\n",
    "            line_kws = {'color': 'red'}) # color for the regression line\n",
    "plt.xlabel(\"BMI\")\n",
    "plt.ylabel(\"Lenght of stay in ICU in (days)\")\n",
    "plt.title(\"Effect of BMI on Lenght of stay in ICU for females\", fontsize = 14, weight = \"bold\")\n",
    "plt.show()"
   ]
  },
  {
   "cell_type": "markdown",
   "metadata": {},
   "source": [
    "There is weak correlation between BMI and lenght of stay ICU and for further confirmation we will use sprearman's correlation"
   ]
  },
  {
   "cell_type": "code",
   "execution_count": 54,
   "metadata": {},
   "outputs": [
    {
     "name": "stdout",
     "output_type": "stream",
     "text": [
      "Spearmans correlation coefficient: 0.015\n",
      "Samples are uncorrelated (fail to reject H0) p=0.672\n"
     ]
    }
   ],
   "source": [
    "# calculate spearman's correlation\n",
    "from scipy.stats import spearmanr\n",
    "data1 = df_clean['los_icu']\n",
    "data2 = df_clean['bmi']\n",
    "coef, p = spearmanr(data1, data2)\n",
    "print('Spearmans correlation coefficient: %.3f' % coef)\n",
    "# interpret the significance\n",
    "alpha = 0.05\n",
    "if p > alpha:\n",
    "\tprint('Samples are uncorrelated (fail to reject H0) p=%.3f' % p)\n",
    "else:\n",
    "\tprint('Samples are correlated (reject H0) p=%.3f' % p)"
   ]
  },
  {
   "cell_type": "markdown",
   "metadata": {},
   "source": [
    ">The spearman's correlation confirms that the IBM and lenght os stay in ICU are not correlated , still because gender is effect modifier will repeat the calculations of spearman's correlation using gender separated data."
   ]
  },
  {
   "cell_type": "code",
   "execution_count": 55,
   "metadata": {},
   "outputs": [
    {
     "name": "stdout",
     "output_type": "stream",
     "text": [
      "Spearmans correlation coefficient: 0.020\n",
      "Samples are uncorrelated (fail to reject H0) p=0.677\n"
     ]
    }
   ],
   "source": [
    "# calculate spearman's correlation For male\n",
    "from scipy.stats import spearmanr\n",
    "data1 = df_male['los_icu']\n",
    "data2 = df_male['bmi']\n",
    "coef, p = spearmanr(data1, data2)\n",
    "print('Spearmans correlation coefficient: %.3f' % coef)\n",
    "# interpret the significance\n",
    "alpha = 0.05\n",
    "if p > alpha:\n",
    "\tprint('Samples are uncorrelated (fail to reject H0) p=%.3f' % p)\n",
    "else:\n",
    "\tprint('Samples are correlated (reject H0) p=%.3f' % p)"
   ]
  },
  {
   "cell_type": "code",
   "execution_count": 56,
   "metadata": {},
   "outputs": [
    {
     "name": "stdout",
     "output_type": "stream",
     "text": [
      "Spearmans correlation coefficient: 0.006\n",
      "Samples are uncorrelated (fail to reject H0) p=0.900\n"
     ]
    }
   ],
   "source": [
    "# calculate spearman's correlation For female\n",
    "from scipy.stats import spearmanr\n",
    "data1 = df_female['los_icu']\n",
    "data2 = df_female['bmi']\n",
    "coef, p = spearmanr(data1, data2)\n",
    "print('Spearmans correlation coefficient: %.3f' % coef)\n",
    "# interpret the significance\n",
    "alpha = 0.05\n",
    "if p > alpha:\n",
    "\tprint('Samples are uncorrelated (fail to reject H0) p=%.3f' % p)\n",
    "else:\n",
    "\tprint('Samples are correlated (reject H0) p=%.3f' % p)"
   ]
  },
  {
   "cell_type": "markdown",
   "metadata": {},
   "source": [
    "## Finally, we will build multi linear regression model including the suspected confounders to exclude the possibility of omitted variable bias and stratify the analysis according to gender to avoid its effect modification"
   ]
  },
  {
   "cell_type": "code",
   "execution_count": 57,
   "metadata": {},
   "outputs": [
    {
     "name": "stderr",
     "output_type": "stream",
     "text": [
      "<ipython-input-57-7c2e3accc557>:3: SettingWithCopyWarning: \n",
      "A value is trying to be set on a copy of a slice from a DataFrame.\n",
      "Try using .loc[row_indexer,col_indexer] = value instead\n",
      "\n",
      "See the caveats in the documentation: https://pandas.pydata.org/pandas-docs/stable/user_guide/indexing.html#returning-a-view-versus-a-copy\n",
      "  df_male['intercept'] = 1\n"
     ]
    },
    {
     "data": {
      "text/html": [
       "<table class=\"simpletable\">\n",
       "<caption>OLS Regression Results</caption>\n",
       "<tr>\n",
       "  <th>Dep. Variable:</th>         <td>los_icu</td>     <th>  R-squared:         </th> <td>   0.050</td>\n",
       "</tr>\n",
       "<tr>\n",
       "  <th>Model:</th>                   <td>OLS</td>       <th>  Adj. R-squared:    </th> <td>   0.041</td>\n",
       "</tr>\n",
       "<tr>\n",
       "  <th>Method:</th>             <td>Least Squares</td>  <th>  F-statistic:       </th> <td>   5.521</td>\n",
       "</tr>\n",
       "<tr>\n",
       "  <th>Date:</th>             <td>Wed, 20 Apr 2022</td> <th>  Prob (F-statistic):</th> <td>0.000243</td>\n",
       "</tr>\n",
       "<tr>\n",
       "  <th>Time:</th>                 <td>13:03:39</td>     <th>  Log-Likelihood:    </th> <td> -1165.6</td>\n",
       "</tr>\n",
       "<tr>\n",
       "  <th>No. Observations:</th>      <td>   429</td>      <th>  AIC:               </th> <td>   2341.</td>\n",
       "</tr>\n",
       "<tr>\n",
       "  <th>Df Residuals:</th>          <td>   424</td>      <th>  BIC:               </th> <td>   2362.</td>\n",
       "</tr>\n",
       "<tr>\n",
       "  <th>Df Model:</th>              <td>     4</td>      <th>                     </th>     <td> </td>   \n",
       "</tr>\n",
       "<tr>\n",
       "  <th>Covariance Type:</th>      <td>nonrobust</td>    <th>                     </th>     <td> </td>   \n",
       "</tr>\n",
       "</table>\n",
       "<table class=\"simpletable\">\n",
       "<tr>\n",
       "      <td></td>         <th>coef</th>     <th>std err</th>      <th>t</th>      <th>P>|t|</th>  <th>[0.025</th>    <th>0.975]</th>  \n",
       "</tr>\n",
       "<tr>\n",
       "  <th>intercept</th> <td>    2.6150</td> <td>    1.237</td> <td>    2.115</td> <td> 0.035</td> <td>    0.184</td> <td>    5.046</td>\n",
       "</tr>\n",
       "<tr>\n",
       "  <th>bmi</th>       <td>    0.0112</td> <td>    0.027</td> <td>    0.421</td> <td> 0.674</td> <td>   -0.041</td> <td>    0.063</td>\n",
       "</tr>\n",
       "<tr>\n",
       "  <th>sapsii</th>    <td>    0.0785</td> <td>    0.017</td> <td>    4.591</td> <td> 0.000</td> <td>    0.045</td> <td>    0.112</td>\n",
       "</tr>\n",
       "<tr>\n",
       "  <th>age</th>       <td>   -0.0126</td> <td>    0.018</td> <td>   -0.718</td> <td> 0.473</td> <td>   -0.047</td> <td>    0.022</td>\n",
       "</tr>\n",
       "<tr>\n",
       "  <th>cci</th>       <td>   -0.1526</td> <td>    0.075</td> <td>   -2.045</td> <td> 0.041</td> <td>   -0.299</td> <td>   -0.006</td>\n",
       "</tr>\n",
       "</table>\n",
       "<table class=\"simpletable\">\n",
       "<tr>\n",
       "  <th>Omnibus:</th>       <td>191.103</td> <th>  Durbin-Watson:     </th> <td>   1.886</td> \n",
       "</tr>\n",
       "<tr>\n",
       "  <th>Prob(Omnibus):</th> <td> 0.000</td>  <th>  Jarque-Bera (JB):  </th> <td> 734.445</td> \n",
       "</tr>\n",
       "<tr>\n",
       "  <th>Skew:</th>          <td> 2.040</td>  <th>  Prob(JB):          </th> <td>3.29e-160</td>\n",
       "</tr>\n",
       "<tr>\n",
       "  <th>Kurtosis:</th>      <td> 7.944</td>  <th>  Cond. No.          </th> <td>    562.</td> \n",
       "</tr>\n",
       "</table><br/><br/>Warnings:<br/>[1] Standard Errors assume that the covariance matrix of the errors is correctly specified."
      ],
      "text/plain": [
       "<class 'statsmodels.iolib.summary.Summary'>\n",
       "\"\"\"\n",
       "                            OLS Regression Results                            \n",
       "==============================================================================\n",
       "Dep. Variable:                los_icu   R-squared:                       0.050\n",
       "Model:                            OLS   Adj. R-squared:                  0.041\n",
       "Method:                 Least Squares   F-statistic:                     5.521\n",
       "Date:                Wed, 20 Apr 2022   Prob (F-statistic):           0.000243\n",
       "Time:                        13:03:39   Log-Likelihood:                -1165.6\n",
       "No. Observations:                 429   AIC:                             2341.\n",
       "Df Residuals:                     424   BIC:                             2362.\n",
       "Df Model:                           4                                         \n",
       "Covariance Type:            nonrobust                                         \n",
       "==============================================================================\n",
       "                 coef    std err          t      P>|t|      [0.025      0.975]\n",
       "------------------------------------------------------------------------------\n",
       "intercept      2.6150      1.237      2.115      0.035       0.184       5.046\n",
       "bmi            0.0112      0.027      0.421      0.674      -0.041       0.063\n",
       "sapsii         0.0785      0.017      4.591      0.000       0.045       0.112\n",
       "age           -0.0126      0.018     -0.718      0.473      -0.047       0.022\n",
       "cci           -0.1526      0.075     -2.045      0.041      -0.299      -0.006\n",
       "==============================================================================\n",
       "Omnibus:                      191.103   Durbin-Watson:                   1.886\n",
       "Prob(Omnibus):                  0.000   Jarque-Bera (JB):              734.445\n",
       "Skew:                           2.040   Prob(JB):                    3.29e-160\n",
       "Kurtosis:                       7.944   Cond. No.                         562.\n",
       "==============================================================================\n",
       "\n",
       "Warnings:\n",
       "[1] Standard Errors assume that the covariance matrix of the errors is correctly specified.\n",
       "\"\"\""
      ]
     },
     "execution_count": 57,
     "metadata": {},
     "output_type": "execute_result"
    }
   ],
   "source": [
    "### Multiple linear regression for males LOS in ICU\n",
    "import statsmodels.api as sms;\n",
    "df_male['intercept'] = 1\n",
    "mlr = sms.OLS(df_male['los_icu'], df_male[['intercept', 'bmi', 'sapsii', 'age','cci' ]])\n",
    "results_mlr = mlr.fit()\n",
    "results_mlr.summary()"
   ]
  },
  {
   "cell_type": "code",
   "execution_count": 58,
   "metadata": {},
   "outputs": [
    {
     "name": "stderr",
     "output_type": "stream",
     "text": [
      "<ipython-input-58-682629d6e03f>:3: SettingWithCopyWarning: \n",
      "A value is trying to be set on a copy of a slice from a DataFrame.\n",
      "Try using .loc[row_indexer,col_indexer] = value instead\n",
      "\n",
      "See the caveats in the documentation: https://pandas.pydata.org/pandas-docs/stable/user_guide/indexing.html#returning-a-view-versus-a-copy\n",
      "  df_female['intercept'] = 1\n"
     ]
    },
    {
     "data": {
      "text/html": [
       "<table class=\"simpletable\">\n",
       "<caption>OLS Regression Results</caption>\n",
       "<tr>\n",
       "  <th>Dep. Variable:</th>         <td>los_icu</td>     <th>  R-squared:         </th> <td>   0.050</td>\n",
       "</tr>\n",
       "<tr>\n",
       "  <th>Model:</th>                   <td>OLS</td>       <th>  Adj. R-squared:    </th> <td>   0.040</td>\n",
       "</tr>\n",
       "<tr>\n",
       "  <th>Method:</th>             <td>Least Squares</td>  <th>  F-statistic:       </th> <td>   5.059</td>\n",
       "</tr>\n",
       "<tr>\n",
       "  <th>Date:</th>             <td>Wed, 20 Apr 2022</td> <th>  Prob (F-statistic):</th> <td>0.000555</td>\n",
       "</tr>\n",
       "<tr>\n",
       "  <th>Time:</th>                 <td>13:03:39</td>     <th>  Log-Likelihood:    </th> <td> -1024.3</td>\n",
       "</tr>\n",
       "<tr>\n",
       "  <th>No. Observations:</th>      <td>   387</td>      <th>  AIC:               </th> <td>   2059.</td>\n",
       "</tr>\n",
       "<tr>\n",
       "  <th>Df Residuals:</th>          <td>   382</td>      <th>  BIC:               </th> <td>   2078.</td>\n",
       "</tr>\n",
       "<tr>\n",
       "  <th>Df Model:</th>              <td>     4</td>      <th>                     </th>     <td> </td>   \n",
       "</tr>\n",
       "<tr>\n",
       "  <th>Covariance Type:</th>      <td>nonrobust</td>    <th>                     </th>     <td> </td>   \n",
       "</tr>\n",
       "</table>\n",
       "<table class=\"simpletable\">\n",
       "<tr>\n",
       "      <td></td>         <th>coef</th>     <th>std err</th>      <th>t</th>      <th>P>|t|</th>  <th>[0.025</th>    <th>0.975]</th>  \n",
       "</tr>\n",
       "<tr>\n",
       "  <th>intercept</th> <td>    4.0289</td> <td>    1.279</td> <td>    3.149</td> <td> 0.002</td> <td>    1.513</td> <td>    6.545</td>\n",
       "</tr>\n",
       "<tr>\n",
       "  <th>bmi</th>       <td>   -0.0251</td> <td>    0.023</td> <td>   -1.098</td> <td> 0.273</td> <td>   -0.070</td> <td>    0.020</td>\n",
       "</tr>\n",
       "<tr>\n",
       "  <th>sapsii</th>    <td>    0.0680</td> <td>    0.016</td> <td>    4.126</td> <td> 0.000</td> <td>    0.036</td> <td>    0.100</td>\n",
       "</tr>\n",
       "<tr>\n",
       "  <th>age</th>       <td>   -0.0317</td> <td>    0.018</td> <td>   -1.770</td> <td> 0.077</td> <td>   -0.067</td> <td>    0.004</td>\n",
       "</tr>\n",
       "<tr>\n",
       "  <th>cci</th>       <td>    0.0281</td> <td>    0.076</td> <td>    0.369</td> <td> 0.712</td> <td>   -0.121</td> <td>    0.178</td>\n",
       "</tr>\n",
       "</table>\n",
       "<table class=\"simpletable\">\n",
       "<tr>\n",
       "  <th>Omnibus:</th>       <td>159.099</td> <th>  Durbin-Watson:     </th> <td>   2.107</td> \n",
       "</tr>\n",
       "<tr>\n",
       "  <th>Prob(Omnibus):</th> <td> 0.000</td>  <th>  Jarque-Bera (JB):  </th> <td> 542.332</td> \n",
       "</tr>\n",
       "<tr>\n",
       "  <th>Skew:</th>          <td> 1.893</td>  <th>  Prob(JB):          </th> <td>1.71e-118</td>\n",
       "</tr>\n",
       "<tr>\n",
       "  <th>Kurtosis:</th>      <td> 7.393</td>  <th>  Cond. No.          </th> <td>    585.</td> \n",
       "</tr>\n",
       "</table><br/><br/>Warnings:<br/>[1] Standard Errors assume that the covariance matrix of the errors is correctly specified."
      ],
      "text/plain": [
       "<class 'statsmodels.iolib.summary.Summary'>\n",
       "\"\"\"\n",
       "                            OLS Regression Results                            \n",
       "==============================================================================\n",
       "Dep. Variable:                los_icu   R-squared:                       0.050\n",
       "Model:                            OLS   Adj. R-squared:                  0.040\n",
       "Method:                 Least Squares   F-statistic:                     5.059\n",
       "Date:                Wed, 20 Apr 2022   Prob (F-statistic):           0.000555\n",
       "Time:                        13:03:39   Log-Likelihood:                -1024.3\n",
       "No. Observations:                 387   AIC:                             2059.\n",
       "Df Residuals:                     382   BIC:                             2078.\n",
       "Df Model:                           4                                         \n",
       "Covariance Type:            nonrobust                                         \n",
       "==============================================================================\n",
       "                 coef    std err          t      P>|t|      [0.025      0.975]\n",
       "------------------------------------------------------------------------------\n",
       "intercept      4.0289      1.279      3.149      0.002       1.513       6.545\n",
       "bmi           -0.0251      0.023     -1.098      0.273      -0.070       0.020\n",
       "sapsii         0.0680      0.016      4.126      0.000       0.036       0.100\n",
       "age           -0.0317      0.018     -1.770      0.077      -0.067       0.004\n",
       "cci            0.0281      0.076      0.369      0.712      -0.121       0.178\n",
       "==============================================================================\n",
       "Omnibus:                      159.099   Durbin-Watson:                   2.107\n",
       "Prob(Omnibus):                  0.000   Jarque-Bera (JB):              542.332\n",
       "Skew:                           1.893   Prob(JB):                    1.71e-118\n",
       "Kurtosis:                       7.393   Cond. No.                         585.\n",
       "==============================================================================\n",
       "\n",
       "Warnings:\n",
       "[1] Standard Errors assume that the covariance matrix of the errors is correctly specified.\n",
       "\"\"\""
      ]
     },
     "execution_count": 58,
     "metadata": {},
     "output_type": "execute_result"
    }
   ],
   "source": [
    "### Multiple linear regression for females LOS in ICU\n",
    "import statsmodels.api as sms;\n",
    "df_female['intercept'] = 1\n",
    "mlr = sms.OLS(df_female['los_icu'], df_female[['intercept', 'bmi', 'sapsii', 'age','cci' ]])\n",
    "results_mlr = mlr.fit()\n",
    "results_mlr.summary()"
   ]
  },
  {
   "cell_type": "markdown",
   "metadata": {},
   "source": [
    "and again it confirms that BMI is not correlated with LOS in ICU"
   ]
  },
  {
   "cell_type": "markdown",
   "metadata": {},
   "source": [
    "<a id='analysis_s'></a>\n",
    "# Time to event ( Survival Analysis)"
   ]
  },
  {
   "cell_type": "markdown",
   "metadata": {},
   "source": [
    "### Ventilation Duration"
   ]
  },
  {
   "cell_type": "code",
   "execution_count": 59,
   "metadata": {
    "scrolled": true
   },
   "outputs": [
    {
     "data": {
      "text/plain": [
       "1     365\n",
       "0     221\n",
       "2      79\n",
       "3      42\n",
       "5      23\n",
       "4      17\n",
       "6      16\n",
       "10     12\n",
       "7      10\n",
       "9       9\n",
       "11      7\n",
       "8       6\n",
       "14      4\n",
       "12      3\n",
       "13      2\n",
       "Name: vent_duration, dtype: int64"
      ]
     },
     "execution_count": 59,
     "metadata": {},
     "output_type": "execute_result"
    }
   ],
   "source": [
    "df_clean['vent_duration'].value_counts()"
   ]
  },
  {
   "cell_type": "code",
   "execution_count": 81,
   "metadata": {},
   "outputs": [],
   "source": [
    "### generating a Kaplan_Maier curve\n",
    "#### importing the required libaraies\n",
    "from lifelines import KaplanMeierFitter"
   ]
  },
  {
   "cell_type": "code",
   "execution_count": 82,
   "metadata": {},
   "outputs": [
    {
     "name": "stdout",
     "output_type": "stream",
     "text": [
      "<class 'pandas.core.frame.DataFrame'>\n",
      "Int64Index: 816 entries, 0 to 848\n",
      "Data columns (total 22 columns):\n",
      " #   Column              Non-Null Count  Dtype  \n",
      "---  ------              --------------  -----  \n",
      " 0   subject_id          816 non-null    int64  \n",
      " 1   stay_id             816 non-null    int64  \n",
      " 2   age                 816 non-null    int64  \n",
      " 3   gender              816 non-null    object \n",
      " 4   ethnicity           763 non-null    object \n",
      " 5   first_careunit      816 non-null    object \n",
      " 6   admission_type      816 non-null    object \n",
      " 7   sapsii              816 non-null    int64  \n",
      " 8   sapsii_prob         816 non-null    int64  \n",
      " 9   cci                 816 non-null    int64  \n",
      " 10  height              816 non-null    int64  \n",
      " 11  weight              816 non-null    int64  \n",
      " 12  bmi                 816 non-null    int64  \n",
      " 13  mortality           816 non-null    object \n",
      " 14  day_28_mortality    816 non-null    bool   \n",
      " 15  mortality_duration  20 non-null     float64\n",
      " 16  day_28_extubation   816 non-null    object \n",
      " 17  vent_duration       816 non-null    int64  \n",
      " 18  los_icu             816 non-null    int64  \n",
      " 19  day_14_extubation   816 non-null    bool   \n",
      " 20  day_14_mortality    816 non-null    bool   \n",
      " 21  bmi_range           773 non-null    object \n",
      "dtypes: bool(3), float64(1), int64(11), object(7)\n",
      "memory usage: 162.2+ KB\n"
     ]
    }
   ],
   "source": [
    "#replace success and fail in day_28_ extubation  to boolean type data ( 0 or 1)\n",
    "df_n= df_clean.copy()\n",
    "df_n['day_28_mortality'].replace({'Success': 1, 'Fail' : 0}, inplace = True)\n",
    "df_n['day_28_mortality'] = df_n['day_28_mortality'].astype('bool')\n",
    "df_n.info()"
   ]
  },
  {
   "cell_type": "code",
   "execution_count": 83,
   "metadata": {
    "scrolled": true
   },
   "outputs": [
    {
     "data": {
      "text/plain": [
       "Text(0, 0.5, 'est. probability of survival $\\\\hat{S}(t)$')"
      ]
     },
     "execution_count": 83,
     "metadata": {},
     "output_type": "execute_result"
    },
    {
     "data": {
      "image/png": "[encoded data removed]",
      "text/plain": [
       "<Figure size 648x432 with 1 Axes>"
      ]
     },
     "metadata": {},
     "output_type": "display_data"
    }
   ],
   "source": [
    "T = df_n['vent_duration']\n",
    "E = df_n['day_28_mortality']\n",
    "kmf = KaplanMeierFitter()\n",
    "kmf.fit(durations = T , event_observed = E)\n",
    "kmf.plot_survival_function()\n",
    "plt.ylabel(\"est. probability of survival $\\hat{S}(t)$\")"
   ]
  },
  {
   "cell_type": "code",
   "execution_count": 84,
   "metadata": {},
   "outputs": [],
   "source": [
    "# estimate the median survival time and 95% confidence intervals\n",
    "from lifelines.utils import median_survival_times"
   ]
  },
  {
   "cell_type": "code",
   "execution_count": 85,
   "metadata": {},
   "outputs": [
    {
     "data": {
      "text/html": [
       "<div>\n",
       "<style scoped>\n",
       "    .dataframe tbody tr th:only-of-type {\n",
       "        vertical-align: middle;\n",
       "    }\n",
       "\n",
       "    .dataframe tbody tr th {\n",
       "        vertical-align: top;\n",
       "    }\n",
       "\n",
       "    .dataframe thead th {\n",
       "        text-align: right;\n",
       "    }\n",
       "</style>\n",
       "<table border=\"1\" class=\"dataframe\">\n",
       "  <thead>\n",
       "    <tr style=\"text-align: right;\">\n",
       "      <th></th>\n",
       "      <th>KM_estimate</th>\n",
       "    </tr>\n",
       "    <tr>\n",
       "      <th>timeline</th>\n",
       "      <th></th>\n",
       "    </tr>\n",
       "  </thead>\n",
       "  <tbody>\n",
       "    <tr>\n",
       "      <th>0.0</th>\n",
       "      <td>0.729167</td>\n",
       "    </tr>\n",
       "    <tr>\n",
       "      <th>1.0</th>\n",
       "      <td>0.281863</td>\n",
       "    </tr>\n",
       "    <tr>\n",
       "      <th>2.0</th>\n",
       "      <td>0.185049</td>\n",
       "    </tr>\n",
       "    <tr>\n",
       "      <th>3.0</th>\n",
       "      <td>0.133578</td>\n",
       "    </tr>\n",
       "    <tr>\n",
       "      <th>4.0</th>\n",
       "      <td>0.112745</td>\n",
       "    </tr>\n",
       "    <tr>\n",
       "      <th>5.0</th>\n",
       "      <td>0.084559</td>\n",
       "    </tr>\n",
       "    <tr>\n",
       "      <th>6.0</th>\n",
       "      <td>0.064951</td>\n",
       "    </tr>\n",
       "    <tr>\n",
       "      <th>7.0</th>\n",
       "      <td>0.052696</td>\n",
       "    </tr>\n",
       "    <tr>\n",
       "      <th>8.0</th>\n",
       "      <td>0.045343</td>\n",
       "    </tr>\n",
       "    <tr>\n",
       "      <th>9.0</th>\n",
       "      <td>0.034314</td>\n",
       "    </tr>\n",
       "    <tr>\n",
       "      <th>10.0</th>\n",
       "      <td>0.019608</td>\n",
       "    </tr>\n",
       "    <tr>\n",
       "      <th>11.0</th>\n",
       "      <td>0.011029</td>\n",
       "    </tr>\n",
       "    <tr>\n",
       "      <th>12.0</th>\n",
       "      <td>0.007353</td>\n",
       "    </tr>\n",
       "    <tr>\n",
       "      <th>13.0</th>\n",
       "      <td>0.004902</td>\n",
       "    </tr>\n",
       "    <tr>\n",
       "      <th>14.0</th>\n",
       "      <td>0.000000</td>\n",
       "    </tr>\n",
       "  </tbody>\n",
       "</table>\n",
       "</div>"
      ],
      "text/plain": [
       "          KM_estimate\n",
       "timeline             \n",
       "0.0          0.729167\n",
       "1.0          0.281863\n",
       "2.0          0.185049\n",
       "3.0          0.133578\n",
       "4.0          0.112745\n",
       "5.0          0.084559\n",
       "6.0          0.064951\n",
       "7.0          0.052696\n",
       "8.0          0.045343\n",
       "9.0          0.034314\n",
       "10.0         0.019608\n",
       "11.0         0.011029\n",
       "12.0         0.007353\n",
       "13.0         0.004902\n",
       "14.0         0.000000"
      ]
     },
     "execution_count": 85,
     "metadata": {},
     "output_type": "execute_result"
    }
   ],
   "source": [
    "#Print survival probabilities at each day\n",
    "kmf.survival_function_"
   ]
  },
  {
   "cell_type": "markdown",
   "metadata": {},
   "source": [
    "> We can see for the provided sample , the probability of patient survives after 1 day of ventilation drops to 28% from 72% at zero ventilation duration"
   ]
  },
  {
   "cell_type": "markdown",
   "metadata": {},
   "source": [
    "### Length of stay in ICU"
   ]
  },
  {
   "cell_type": "code",
   "execution_count": 86,
   "metadata": {},
   "outputs": [
    {
     "data": {
      "text/plain": [
       "2     181\n",
       "1     178\n",
       "3     142\n",
       "4      75\n",
       "5      59\n",
       "7      34\n",
       "6      32\n",
       "8      24\n",
       "10     19\n",
       "9      14\n",
       "13     10\n",
       "11      9\n",
       "14      7\n",
       "16      6\n",
       "12      6\n",
       "15      6\n",
       "0       4\n",
       "17      3\n",
       "18      2\n",
       "22      2\n",
       "20      1\n",
       "21      1\n",
       "23      1\n",
       "Name: los_icu, dtype: int64"
      ]
     },
     "execution_count": 86,
     "metadata": {},
     "output_type": "execute_result"
    }
   ],
   "source": [
    "df_clean['los_icu'].value_counts()"
   ]
  },
  {
   "cell_type": "code",
   "execution_count": 87,
   "metadata": {},
   "outputs": [
    {
     "name": "stdout",
     "output_type": "stream",
     "text": [
      "1.0\n",
      "     KM_estimate_lower_0.95  KM_estimate_upper_0.95\n",
      "0.5                     1.0                     1.0\n"
     ]
    }
   ],
   "source": [
    "median = kmf.median_survival_time_\n",
    "median_confidence_interval = median_survival_times(kmf.confidence_interval_)\n",
    "print(median)\n",
    "print(median_confidence_interval)"
   ]
  },
  {
   "cell_type": "code",
   "execution_count": 88,
   "metadata": {},
   "outputs": [
    {
     "data": {
      "text/plain": [
       "<matplotlib.axes._subplots.AxesSubplot at 0x1b5fddfd2b0>"
      ]
     },
     "execution_count": 88,
     "metadata": {},
     "output_type": "execute_result"
    },
    {
     "data": {
      "image/png": "[encoded data removed]",
      "text/plain": [
       "<Figure size 648x432 with 1 Axes>"
      ]
     },
     "metadata": {},
     "output_type": "display_data"
    }
   ],
   "source": [
    "T1 = df_n['los_icu']\n",
    "E1 = df_n['day_28_mortality']\n",
    "kmf1 = KaplanMeierFitter()\n",
    "kmf1.fit(durations = T1 , event_observed = E1)\n",
    "kmf1.plot_survival_function()"
   ]
  },
  {
   "cell_type": "code",
   "execution_count": 89,
   "metadata": {
    "scrolled": true
   },
   "outputs": [
    {
     "name": "stdout",
     "output_type": "stream",
     "text": [
      "3.0\n",
      "     KM_estimate_lower_0.95  KM_estimate_upper_0.95\n",
      "0.5                     3.0                     3.0\n"
     ]
    }
   ],
   "source": [
    "median = kmf1.median_survival_time_\n",
    "median_confidence_interval = median_survival_times(kmf1.confidence_interval_)\n",
    "print(median)\n",
    "print(median_confidence_interval)"
   ]
  },
  {
   "cell_type": "code",
   "execution_count": 90,
   "metadata": {},
   "outputs": [
    {
     "data": {
      "text/html": [
       "<div>\n",
       "<style scoped>\n",
       "    .dataframe tbody tr th:only-of-type {\n",
       "        vertical-align: middle;\n",
       "    }\n",
       "\n",
       "    .dataframe tbody tr th {\n",
       "        vertical-align: top;\n",
       "    }\n",
       "\n",
       "    .dataframe thead th {\n",
       "        text-align: right;\n",
       "    }\n",
       "</style>\n",
       "<table border=\"1\" class=\"dataframe\">\n",
       "  <thead>\n",
       "    <tr style=\"text-align: right;\">\n",
       "      <th></th>\n",
       "      <th>KM_estimate</th>\n",
       "    </tr>\n",
       "    <tr>\n",
       "      <th>timeline</th>\n",
       "      <th></th>\n",
       "    </tr>\n",
       "  </thead>\n",
       "  <tbody>\n",
       "    <tr>\n",
       "      <th>0.0</th>\n",
       "      <td>0.995098</td>\n",
       "    </tr>\n",
       "    <tr>\n",
       "      <th>1.0</th>\n",
       "      <td>0.776961</td>\n",
       "    </tr>\n",
       "    <tr>\n",
       "      <th>2.0</th>\n",
       "      <td>0.555147</td>\n",
       "    </tr>\n",
       "    <tr>\n",
       "      <th>3.0</th>\n",
       "      <td>0.381127</td>\n",
       "    </tr>\n",
       "    <tr>\n",
       "      <th>4.0</th>\n",
       "      <td>0.289216</td>\n",
       "    </tr>\n",
       "    <tr>\n",
       "      <th>5.0</th>\n",
       "      <td>0.216912</td>\n",
       "    </tr>\n",
       "    <tr>\n",
       "      <th>6.0</th>\n",
       "      <td>0.177696</td>\n",
       "    </tr>\n",
       "    <tr>\n",
       "      <th>7.0</th>\n",
       "      <td>0.136029</td>\n",
       "    </tr>\n",
       "    <tr>\n",
       "      <th>8.0</th>\n",
       "      <td>0.106618</td>\n",
       "    </tr>\n",
       "    <tr>\n",
       "      <th>9.0</th>\n",
       "      <td>0.089461</td>\n",
       "    </tr>\n",
       "    <tr>\n",
       "      <th>10.0</th>\n",
       "      <td>0.066176</td>\n",
       "    </tr>\n",
       "    <tr>\n",
       "      <th>11.0</th>\n",
       "      <td>0.055147</td>\n",
       "    </tr>\n",
       "    <tr>\n",
       "      <th>12.0</th>\n",
       "      <td>0.047794</td>\n",
       "    </tr>\n",
       "    <tr>\n",
       "      <th>13.0</th>\n",
       "      <td>0.035539</td>\n",
       "    </tr>\n",
       "    <tr>\n",
       "      <th>14.0</th>\n",
       "      <td>0.026961</td>\n",
       "    </tr>\n",
       "    <tr>\n",
       "      <th>15.0</th>\n",
       "      <td>0.019608</td>\n",
       "    </tr>\n",
       "    <tr>\n",
       "      <th>16.0</th>\n",
       "      <td>0.012255</td>\n",
       "    </tr>\n",
       "    <tr>\n",
       "      <th>17.0</th>\n",
       "      <td>0.008578</td>\n",
       "    </tr>\n",
       "    <tr>\n",
       "      <th>18.0</th>\n",
       "      <td>0.006127</td>\n",
       "    </tr>\n",
       "    <tr>\n",
       "      <th>20.0</th>\n",
       "      <td>0.004902</td>\n",
       "    </tr>\n",
       "    <tr>\n",
       "      <th>21.0</th>\n",
       "      <td>0.003676</td>\n",
       "    </tr>\n",
       "    <tr>\n",
       "      <th>22.0</th>\n",
       "      <td>0.001225</td>\n",
       "    </tr>\n",
       "    <tr>\n",
       "      <th>23.0</th>\n",
       "      <td>0.000000</td>\n",
       "    </tr>\n",
       "  </tbody>\n",
       "</table>\n",
       "</div>"
      ],
      "text/plain": [
       "          KM_estimate\n",
       "timeline             \n",
       "0.0          0.995098\n",
       "1.0          0.776961\n",
       "2.0          0.555147\n",
       "3.0          0.381127\n",
       "4.0          0.289216\n",
       "5.0          0.216912\n",
       "6.0          0.177696\n",
       "7.0          0.136029\n",
       "8.0          0.106618\n",
       "9.0          0.089461\n",
       "10.0         0.066176\n",
       "11.0         0.055147\n",
       "12.0         0.047794\n",
       "13.0         0.035539\n",
       "14.0         0.026961\n",
       "15.0         0.019608\n",
       "16.0         0.012255\n",
       "17.0         0.008578\n",
       "18.0         0.006127\n",
       "20.0         0.004902\n",
       "21.0         0.003676\n",
       "22.0         0.001225\n",
       "23.0         0.000000"
      ]
     },
     "execution_count": 90,
     "metadata": {},
     "output_type": "execute_result"
    }
   ],
   "source": [
    "#Print survival probabilities at each day\n",
    "kmf1.survival_function_"
   ]
  },
  {
   "cell_type": "markdown",
   "metadata": {},
   "source": [
    "> We can see for the provided sample , the probability of patient survives after 2 days of staying in ICU drops to 77% from 55% if the patient stayed only one day"
   ]
  },
  {
   "cell_type": "code",
   "execution_count": null,
   "metadata": {},
   "outputs": [],
   "source": []
  }
 ],
 "metadata": {
  "kernelspec": {
   "display_name": "Python 3",
   "language": "python",
   "name": "python3"
  },
  "language_info": {
   "codemirror_mode": {
    "name": "ipython",
    "version": 3
   },
   "file_extension": ".py",
   "mimetype": "text/x-python",
   "name": "python",
   "nbconvert_exporter": "python",
   "pygments_lexer": "ipython3",
   "version": "3.8.3"
  }
 },
 "nbformat": 4,
 "nbformat_minor": 4
}
